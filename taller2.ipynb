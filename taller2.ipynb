{
  "nbformat": 4,
  "nbformat_minor": 0,
  "metadata": {
    "colab": {
      "provenance": [],
      "collapsed_sections": []
    },
    "kernelspec": {
      "name": "python3",
      "display_name": "Python 3"
    },
    "language_info": {
      "name": "python"
    }
  },
  "cells": [
    {
      "cell_type": "markdown",
      "source": [
        "#Daniel Agudelo\n",
        "#Juan Aponte\n",
        "#Juan Manuel Lozada"
      ],
      "metadata": {
        "id": "C_S6k-W9_TD6"
      }
    },
    {
      "cell_type": "code",
      "source": [
        "import pandas as pd\n",
        "import numpy as np\n",
        "import statsmodels.api as sm\n",
        "import matplotlib.pyplot as plt\n",
        "import seaborn as seaborn"
      ],
      "metadata": {
        "id": "dCyH7zZyj__e"
      },
      "execution_count": null,
      "outputs": []
    },
    {
      "cell_type": "code",
      "source": [
        "df=pd.read_csv('datos.csv')"
      ],
      "metadata": {
        "id": "Lc63oJ3mklCW"
      },
      "execution_count": null,
      "outputs": []
    },
    {
      "cell_type": "code",
      "source": [
        "df"
      ],
      "metadata": {
        "colab": {
          "base_uri": "https://localhost:8080/",
          "height": 467
        },
        "id": "GqYb9h0Pn3Bz",
        "outputId": "d7d26111-d48f-487b-9980-a1b9c22a4f7c"
      },
      "execution_count": null,
      "outputs": [
        {
          "output_type": "execute_result",
          "data": {
            "text/plain": [
              "      LotArea  OverallQual  OverallCond  YearBuilt  YearRemodAdd  ExterQual  \\\n",
              "0        8450            7            5         19            19          4   \n",
              "1        9600            6            8         46            46          3   \n",
              "2       11250            7            5         21            20          4   \n",
              "3        9550            7            5        107            52          3   \n",
              "4       14260            8            5         22            22          4   \n",
              "...       ...          ...          ...        ...           ...        ...   \n",
              "1455     7917            6            5         23            22          3   \n",
              "1456    13175            6            6         44            34          3   \n",
              "1457     9042            7            9         81            16          5   \n",
              "1458     9717            5            6         72            26          3   \n",
              "1459     9937            5            6         57            57          4   \n",
              "\n",
              "      ExterCond  BedroomAbvGr  GarageCars  PoolArea  SalePrice  Artery  \n",
              "0             3             3           2         0     208500       0  \n",
              "1             3             3           2         0     181500       0  \n",
              "2             3             3           2         0     223500       0  \n",
              "3             3             3           3         0     140000       0  \n",
              "4             3             4           3         0     250000       0  \n",
              "...         ...           ...         ...       ...        ...     ...  \n",
              "1455          3             3           2         0     175000       0  \n",
              "1456          3             3           2         0     210000       0  \n",
              "1457          4             4           1         0     266500       0  \n",
              "1458          3             2           1         0     142125       0  \n",
              "1459          3             3           1         0     147500       0  \n",
              "\n",
              "[1460 rows x 12 columns]"
            ],
            "text/html": [
              "\n",
              "  <div id=\"df-2ecc5bc6-c7de-487d-954c-dd4d99c61fe7\">\n",
              "    <div class=\"colab-df-container\">\n",
              "      <div>\n",
              "<style scoped>\n",
              "    .dataframe tbody tr th:only-of-type {\n",
              "        vertical-align: middle;\n",
              "    }\n",
              "\n",
              "    .dataframe tbody tr th {\n",
              "        vertical-align: top;\n",
              "    }\n",
              "\n",
              "    .dataframe thead th {\n",
              "        text-align: right;\n",
              "    }\n",
              "</style>\n",
              "<table border=\"1\" class=\"dataframe\">\n",
              "  <thead>\n",
              "    <tr style=\"text-align: right;\">\n",
              "      <th></th>\n",
              "      <th>LotArea</th>\n",
              "      <th>OverallQual</th>\n",
              "      <th>OverallCond</th>\n",
              "      <th>YearBuilt</th>\n",
              "      <th>YearRemodAdd</th>\n",
              "      <th>ExterQual</th>\n",
              "      <th>ExterCond</th>\n",
              "      <th>BedroomAbvGr</th>\n",
              "      <th>GarageCars</th>\n",
              "      <th>PoolArea</th>\n",
              "      <th>SalePrice</th>\n",
              "      <th>Artery</th>\n",
              "    </tr>\n",
              "  </thead>\n",
              "  <tbody>\n",
              "    <tr>\n",
              "      <th>0</th>\n",
              "      <td>8450</td>\n",
              "      <td>7</td>\n",
              "      <td>5</td>\n",
              "      <td>19</td>\n",
              "      <td>19</td>\n",
              "      <td>4</td>\n",
              "      <td>3</td>\n",
              "      <td>3</td>\n",
              "      <td>2</td>\n",
              "      <td>0</td>\n",
              "      <td>208500</td>\n",
              "      <td>0</td>\n",
              "    </tr>\n",
              "    <tr>\n",
              "      <th>1</th>\n",
              "      <td>9600</td>\n",
              "      <td>6</td>\n",
              "      <td>8</td>\n",
              "      <td>46</td>\n",
              "      <td>46</td>\n",
              "      <td>3</td>\n",
              "      <td>3</td>\n",
              "      <td>3</td>\n",
              "      <td>2</td>\n",
              "      <td>0</td>\n",
              "      <td>181500</td>\n",
              "      <td>0</td>\n",
              "    </tr>\n",
              "    <tr>\n",
              "      <th>2</th>\n",
              "      <td>11250</td>\n",
              "      <td>7</td>\n",
              "      <td>5</td>\n",
              "      <td>21</td>\n",
              "      <td>20</td>\n",
              "      <td>4</td>\n",
              "      <td>3</td>\n",
              "      <td>3</td>\n",
              "      <td>2</td>\n",
              "      <td>0</td>\n",
              "      <td>223500</td>\n",
              "      <td>0</td>\n",
              "    </tr>\n",
              "    <tr>\n",
              "      <th>3</th>\n",
              "      <td>9550</td>\n",
              "      <td>7</td>\n",
              "      <td>5</td>\n",
              "      <td>107</td>\n",
              "      <td>52</td>\n",
              "      <td>3</td>\n",
              "      <td>3</td>\n",
              "      <td>3</td>\n",
              "      <td>3</td>\n",
              "      <td>0</td>\n",
              "      <td>140000</td>\n",
              "      <td>0</td>\n",
              "    </tr>\n",
              "    <tr>\n",
              "      <th>4</th>\n",
              "      <td>14260</td>\n",
              "      <td>8</td>\n",
              "      <td>5</td>\n",
              "      <td>22</td>\n",
              "      <td>22</td>\n",
              "      <td>4</td>\n",
              "      <td>3</td>\n",
              "      <td>4</td>\n",
              "      <td>3</td>\n",
              "      <td>0</td>\n",
              "      <td>250000</td>\n",
              "      <td>0</td>\n",
              "    </tr>\n",
              "    <tr>\n",
              "      <th>...</th>\n",
              "      <td>...</td>\n",
              "      <td>...</td>\n",
              "      <td>...</td>\n",
              "      <td>...</td>\n",
              "      <td>...</td>\n",
              "      <td>...</td>\n",
              "      <td>...</td>\n",
              "      <td>...</td>\n",
              "      <td>...</td>\n",
              "      <td>...</td>\n",
              "      <td>...</td>\n",
              "      <td>...</td>\n",
              "    </tr>\n",
              "    <tr>\n",
              "      <th>1455</th>\n",
              "      <td>7917</td>\n",
              "      <td>6</td>\n",
              "      <td>5</td>\n",
              "      <td>23</td>\n",
              "      <td>22</td>\n",
              "      <td>3</td>\n",
              "      <td>3</td>\n",
              "      <td>3</td>\n",
              "      <td>2</td>\n",
              "      <td>0</td>\n",
              "      <td>175000</td>\n",
              "      <td>0</td>\n",
              "    </tr>\n",
              "    <tr>\n",
              "      <th>1456</th>\n",
              "      <td>13175</td>\n",
              "      <td>6</td>\n",
              "      <td>6</td>\n",
              "      <td>44</td>\n",
              "      <td>34</td>\n",
              "      <td>3</td>\n",
              "      <td>3</td>\n",
              "      <td>3</td>\n",
              "      <td>2</td>\n",
              "      <td>0</td>\n",
              "      <td>210000</td>\n",
              "      <td>0</td>\n",
              "    </tr>\n",
              "    <tr>\n",
              "      <th>1457</th>\n",
              "      <td>9042</td>\n",
              "      <td>7</td>\n",
              "      <td>9</td>\n",
              "      <td>81</td>\n",
              "      <td>16</td>\n",
              "      <td>5</td>\n",
              "      <td>4</td>\n",
              "      <td>4</td>\n",
              "      <td>1</td>\n",
              "      <td>0</td>\n",
              "      <td>266500</td>\n",
              "      <td>0</td>\n",
              "    </tr>\n",
              "    <tr>\n",
              "      <th>1458</th>\n",
              "      <td>9717</td>\n",
              "      <td>5</td>\n",
              "      <td>6</td>\n",
              "      <td>72</td>\n",
              "      <td>26</td>\n",
              "      <td>3</td>\n",
              "      <td>3</td>\n",
              "      <td>2</td>\n",
              "      <td>1</td>\n",
              "      <td>0</td>\n",
              "      <td>142125</td>\n",
              "      <td>0</td>\n",
              "    </tr>\n",
              "    <tr>\n",
              "      <th>1459</th>\n",
              "      <td>9937</td>\n",
              "      <td>5</td>\n",
              "      <td>6</td>\n",
              "      <td>57</td>\n",
              "      <td>57</td>\n",
              "      <td>4</td>\n",
              "      <td>3</td>\n",
              "      <td>3</td>\n",
              "      <td>1</td>\n",
              "      <td>0</td>\n",
              "      <td>147500</td>\n",
              "      <td>0</td>\n",
              "    </tr>\n",
              "  </tbody>\n",
              "</table>\n",
              "<p>1460 rows × 12 columns</p>\n",
              "</div>\n",
              "      <button class=\"colab-df-convert\" onclick=\"convertToInteractive('df-2ecc5bc6-c7de-487d-954c-dd4d99c61fe7')\"\n",
              "              title=\"Convert this dataframe to an interactive table.\"\n",
              "              style=\"display:none;\">\n",
              "        \n",
              "  <svg xmlns=\"http://www.w3.org/2000/svg\" height=\"24px\"viewBox=\"0 0 24 24\"\n",
              "       width=\"24px\">\n",
              "    <path d=\"M0 0h24v24H0V0z\" fill=\"none\"/>\n",
              "    <path d=\"M18.56 5.44l.94 2.06.94-2.06 2.06-.94-2.06-.94-.94-2.06-.94 2.06-2.06.94zm-11 1L8.5 8.5l.94-2.06 2.06-.94-2.06-.94L8.5 2.5l-.94 2.06-2.06.94zm10 10l.94 2.06.94-2.06 2.06-.94-2.06-.94-.94-2.06-.94 2.06-2.06.94z\"/><path d=\"M17.41 7.96l-1.37-1.37c-.4-.4-.92-.59-1.43-.59-.52 0-1.04.2-1.43.59L10.3 9.45l-7.72 7.72c-.78.78-.78 2.05 0 2.83L4 21.41c.39.39.9.59 1.41.59.51 0 1.02-.2 1.41-.59l7.78-7.78 2.81-2.81c.8-.78.8-2.07 0-2.86zM5.41 20L4 18.59l7.72-7.72 1.47 1.35L5.41 20z\"/>\n",
              "  </svg>\n",
              "      </button>\n",
              "      \n",
              "  <style>\n",
              "    .colab-df-container {\n",
              "      display:flex;\n",
              "      flex-wrap:wrap;\n",
              "      gap: 12px;\n",
              "    }\n",
              "\n",
              "    .colab-df-convert {\n",
              "      background-color: #E8F0FE;\n",
              "      border: none;\n",
              "      border-radius: 50%;\n",
              "      cursor: pointer;\n",
              "      display: none;\n",
              "      fill: #1967D2;\n",
              "      height: 32px;\n",
              "      padding: 0 0 0 0;\n",
              "      width: 32px;\n",
              "    }\n",
              "\n",
              "    .colab-df-convert:hover {\n",
              "      background-color: #E2EBFA;\n",
              "      box-shadow: 0px 1px 2px rgba(60, 64, 67, 0.3), 0px 1px 3px 1px rgba(60, 64, 67, 0.15);\n",
              "      fill: #174EA6;\n",
              "    }\n",
              "\n",
              "    [theme=dark] .colab-df-convert {\n",
              "      background-color: #3B4455;\n",
              "      fill: #D2E3FC;\n",
              "    }\n",
              "\n",
              "    [theme=dark] .colab-df-convert:hover {\n",
              "      background-color: #434B5C;\n",
              "      box-shadow: 0px 1px 3px 1px rgba(0, 0, 0, 0.15);\n",
              "      filter: drop-shadow(0px 1px 2px rgba(0, 0, 0, 0.3));\n",
              "      fill: #FFFFFF;\n",
              "    }\n",
              "  </style>\n",
              "\n",
              "      <script>\n",
              "        const buttonEl =\n",
              "          document.querySelector('#df-2ecc5bc6-c7de-487d-954c-dd4d99c61fe7 button.colab-df-convert');\n",
              "        buttonEl.style.display =\n",
              "          google.colab.kernel.accessAllowed ? 'block' : 'none';\n",
              "\n",
              "        async function convertToInteractive(key) {\n",
              "          const element = document.querySelector('#df-2ecc5bc6-c7de-487d-954c-dd4d99c61fe7');\n",
              "          const dataTable =\n",
              "            await google.colab.kernel.invokeFunction('convertToInteractive',\n",
              "                                                     [key], {});\n",
              "          if (!dataTable) return;\n",
              "\n",
              "          const docLinkHtml = 'Like what you see? Visit the ' +\n",
              "            '<a target=\"_blank\" href=https://colab.research.google.com/notebooks/data_table.ipynb>data table notebook</a>'\n",
              "            + ' to learn more about interactive tables.';\n",
              "          element.innerHTML = '';\n",
              "          dataTable['output_type'] = 'display_data';\n",
              "          await google.colab.output.renderOutput(dataTable, element);\n",
              "          const docLink = document.createElement('div');\n",
              "          docLink.innerHTML = docLinkHtml;\n",
              "          element.appendChild(docLink);\n",
              "        }\n",
              "      </script>\n",
              "    </div>\n",
              "  </div>\n",
              "  "
            ]
          },
          "metadata": {},
          "execution_count": 112
        }
      ]
    },
    {
      "cell_type": "code",
      "source": [
        "df.head(10)"
      ],
      "metadata": {
        "colab": {
          "base_uri": "https://localhost:8080/",
          "height": 407
        },
        "id": "2fTGfJvflbmr",
        "outputId": "d919ecb3-7af9-4f63-8534-695b9d8d6ccc"
      },
      "execution_count": null,
      "outputs": [
        {
          "output_type": "execute_result",
          "data": {
            "text/plain": [
              "   LotArea  OverallQual  OverallCond  YearBuilt  YearRemodAdd  ExterQual  \\\n",
              "0     8450            7            5         19            19          4   \n",
              "1     9600            6            8         46            46          3   \n",
              "2    11250            7            5         21            20          4   \n",
              "3     9550            7            5        107            52          3   \n",
              "4    14260            8            5         22            22          4   \n",
              "5    14115            5            5         29            27          3   \n",
              "6    10084            8            5         18            17          4   \n",
              "7    10382            7            6         49            49          3   \n",
              "8     6120            7            5         91            72          3   \n",
              "9     7420            5            6         83            72          3   \n",
              "\n",
              "   ExterCond  BedroomAbvGr  GarageCars  PoolArea  SalePrice  Artery  \n",
              "0          3             3           2         0     208500       0  \n",
              "1          3             3           2         0     181500       0  \n",
              "2          3             3           2         0     223500       0  \n",
              "3          3             3           3         0     140000       0  \n",
              "4          3             4           3         0     250000       0  \n",
              "5          3             1           2         0     143000       0  \n",
              "6          3             3           2         0     307000       0  \n",
              "7          3             3           2         0     200000       0  \n",
              "8          3             2           2         0     129900       1  \n",
              "9          3             2           1         0     118000       1  "
            ],
            "text/html": [
              "\n",
              "  <div id=\"df-e852ea51-966d-462b-8e3d-d05bdef6eebe\">\n",
              "    <div class=\"colab-df-container\">\n",
              "      <div>\n",
              "<style scoped>\n",
              "    .dataframe tbody tr th:only-of-type {\n",
              "        vertical-align: middle;\n",
              "    }\n",
              "\n",
              "    .dataframe tbody tr th {\n",
              "        vertical-align: top;\n",
              "    }\n",
              "\n",
              "    .dataframe thead th {\n",
              "        text-align: right;\n",
              "    }\n",
              "</style>\n",
              "<table border=\"1\" class=\"dataframe\">\n",
              "  <thead>\n",
              "    <tr style=\"text-align: right;\">\n",
              "      <th></th>\n",
              "      <th>LotArea</th>\n",
              "      <th>OverallQual</th>\n",
              "      <th>OverallCond</th>\n",
              "      <th>YearBuilt</th>\n",
              "      <th>YearRemodAdd</th>\n",
              "      <th>ExterQual</th>\n",
              "      <th>ExterCond</th>\n",
              "      <th>BedroomAbvGr</th>\n",
              "      <th>GarageCars</th>\n",
              "      <th>PoolArea</th>\n",
              "      <th>SalePrice</th>\n",
              "      <th>Artery</th>\n",
              "    </tr>\n",
              "  </thead>\n",
              "  <tbody>\n",
              "    <tr>\n",
              "      <th>0</th>\n",
              "      <td>8450</td>\n",
              "      <td>7</td>\n",
              "      <td>5</td>\n",
              "      <td>19</td>\n",
              "      <td>19</td>\n",
              "      <td>4</td>\n",
              "      <td>3</td>\n",
              "      <td>3</td>\n",
              "      <td>2</td>\n",
              "      <td>0</td>\n",
              "      <td>208500</td>\n",
              "      <td>0</td>\n",
              "    </tr>\n",
              "    <tr>\n",
              "      <th>1</th>\n",
              "      <td>9600</td>\n",
              "      <td>6</td>\n",
              "      <td>8</td>\n",
              "      <td>46</td>\n",
              "      <td>46</td>\n",
              "      <td>3</td>\n",
              "      <td>3</td>\n",
              "      <td>3</td>\n",
              "      <td>2</td>\n",
              "      <td>0</td>\n",
              "      <td>181500</td>\n",
              "      <td>0</td>\n",
              "    </tr>\n",
              "    <tr>\n",
              "      <th>2</th>\n",
              "      <td>11250</td>\n",
              "      <td>7</td>\n",
              "      <td>5</td>\n",
              "      <td>21</td>\n",
              "      <td>20</td>\n",
              "      <td>4</td>\n",
              "      <td>3</td>\n",
              "      <td>3</td>\n",
              "      <td>2</td>\n",
              "      <td>0</td>\n",
              "      <td>223500</td>\n",
              "      <td>0</td>\n",
              "    </tr>\n",
              "    <tr>\n",
              "      <th>3</th>\n",
              "      <td>9550</td>\n",
              "      <td>7</td>\n",
              "      <td>5</td>\n",
              "      <td>107</td>\n",
              "      <td>52</td>\n",
              "      <td>3</td>\n",
              "      <td>3</td>\n",
              "      <td>3</td>\n",
              "      <td>3</td>\n",
              "      <td>0</td>\n",
              "      <td>140000</td>\n",
              "      <td>0</td>\n",
              "    </tr>\n",
              "    <tr>\n",
              "      <th>4</th>\n",
              "      <td>14260</td>\n",
              "      <td>8</td>\n",
              "      <td>5</td>\n",
              "      <td>22</td>\n",
              "      <td>22</td>\n",
              "      <td>4</td>\n",
              "      <td>3</td>\n",
              "      <td>4</td>\n",
              "      <td>3</td>\n",
              "      <td>0</td>\n",
              "      <td>250000</td>\n",
              "      <td>0</td>\n",
              "    </tr>\n",
              "    <tr>\n",
              "      <th>5</th>\n",
              "      <td>14115</td>\n",
              "      <td>5</td>\n",
              "      <td>5</td>\n",
              "      <td>29</td>\n",
              "      <td>27</td>\n",
              "      <td>3</td>\n",
              "      <td>3</td>\n",
              "      <td>1</td>\n",
              "      <td>2</td>\n",
              "      <td>0</td>\n",
              "      <td>143000</td>\n",
              "      <td>0</td>\n",
              "    </tr>\n",
              "    <tr>\n",
              "      <th>6</th>\n",
              "      <td>10084</td>\n",
              "      <td>8</td>\n",
              "      <td>5</td>\n",
              "      <td>18</td>\n",
              "      <td>17</td>\n",
              "      <td>4</td>\n",
              "      <td>3</td>\n",
              "      <td>3</td>\n",
              "      <td>2</td>\n",
              "      <td>0</td>\n",
              "      <td>307000</td>\n",
              "      <td>0</td>\n",
              "    </tr>\n",
              "    <tr>\n",
              "      <th>7</th>\n",
              "      <td>10382</td>\n",
              "      <td>7</td>\n",
              "      <td>6</td>\n",
              "      <td>49</td>\n",
              "      <td>49</td>\n",
              "      <td>3</td>\n",
              "      <td>3</td>\n",
              "      <td>3</td>\n",
              "      <td>2</td>\n",
              "      <td>0</td>\n",
              "      <td>200000</td>\n",
              "      <td>0</td>\n",
              "    </tr>\n",
              "    <tr>\n",
              "      <th>8</th>\n",
              "      <td>6120</td>\n",
              "      <td>7</td>\n",
              "      <td>5</td>\n",
              "      <td>91</td>\n",
              "      <td>72</td>\n",
              "      <td>3</td>\n",
              "      <td>3</td>\n",
              "      <td>2</td>\n",
              "      <td>2</td>\n",
              "      <td>0</td>\n",
              "      <td>129900</td>\n",
              "      <td>1</td>\n",
              "    </tr>\n",
              "    <tr>\n",
              "      <th>9</th>\n",
              "      <td>7420</td>\n",
              "      <td>5</td>\n",
              "      <td>6</td>\n",
              "      <td>83</td>\n",
              "      <td>72</td>\n",
              "      <td>3</td>\n",
              "      <td>3</td>\n",
              "      <td>2</td>\n",
              "      <td>1</td>\n",
              "      <td>0</td>\n",
              "      <td>118000</td>\n",
              "      <td>1</td>\n",
              "    </tr>\n",
              "  </tbody>\n",
              "</table>\n",
              "</div>\n",
              "      <button class=\"colab-df-convert\" onclick=\"convertToInteractive('df-e852ea51-966d-462b-8e3d-d05bdef6eebe')\"\n",
              "              title=\"Convert this dataframe to an interactive table.\"\n",
              "              style=\"display:none;\">\n",
              "        \n",
              "  <svg xmlns=\"http://www.w3.org/2000/svg\" height=\"24px\"viewBox=\"0 0 24 24\"\n",
              "       width=\"24px\">\n",
              "    <path d=\"M0 0h24v24H0V0z\" fill=\"none\"/>\n",
              "    <path d=\"M18.56 5.44l.94 2.06.94-2.06 2.06-.94-2.06-.94-.94-2.06-.94 2.06-2.06.94zm-11 1L8.5 8.5l.94-2.06 2.06-.94-2.06-.94L8.5 2.5l-.94 2.06-2.06.94zm10 10l.94 2.06.94-2.06 2.06-.94-2.06-.94-.94-2.06-.94 2.06-2.06.94z\"/><path d=\"M17.41 7.96l-1.37-1.37c-.4-.4-.92-.59-1.43-.59-.52 0-1.04.2-1.43.59L10.3 9.45l-7.72 7.72c-.78.78-.78 2.05 0 2.83L4 21.41c.39.39.9.59 1.41.59.51 0 1.02-.2 1.41-.59l7.78-7.78 2.81-2.81c.8-.78.8-2.07 0-2.86zM5.41 20L4 18.59l7.72-7.72 1.47 1.35L5.41 20z\"/>\n",
              "  </svg>\n",
              "      </button>\n",
              "      \n",
              "  <style>\n",
              "    .colab-df-container {\n",
              "      display:flex;\n",
              "      flex-wrap:wrap;\n",
              "      gap: 12px;\n",
              "    }\n",
              "\n",
              "    .colab-df-convert {\n",
              "      background-color: #E8F0FE;\n",
              "      border: none;\n",
              "      border-radius: 50%;\n",
              "      cursor: pointer;\n",
              "      display: none;\n",
              "      fill: #1967D2;\n",
              "      height: 32px;\n",
              "      padding: 0 0 0 0;\n",
              "      width: 32px;\n",
              "    }\n",
              "\n",
              "    .colab-df-convert:hover {\n",
              "      background-color: #E2EBFA;\n",
              "      box-shadow: 0px 1px 2px rgba(60, 64, 67, 0.3), 0px 1px 3px 1px rgba(60, 64, 67, 0.15);\n",
              "      fill: #174EA6;\n",
              "    }\n",
              "\n",
              "    [theme=dark] .colab-df-convert {\n",
              "      background-color: #3B4455;\n",
              "      fill: #D2E3FC;\n",
              "    }\n",
              "\n",
              "    [theme=dark] .colab-df-convert:hover {\n",
              "      background-color: #434B5C;\n",
              "      box-shadow: 0px 1px 3px 1px rgba(0, 0, 0, 0.15);\n",
              "      filter: drop-shadow(0px 1px 2px rgba(0, 0, 0, 0.3));\n",
              "      fill: #FFFFFF;\n",
              "    }\n",
              "  </style>\n",
              "\n",
              "      <script>\n",
              "        const buttonEl =\n",
              "          document.querySelector('#df-e852ea51-966d-462b-8e3d-d05bdef6eebe button.colab-df-convert');\n",
              "        buttonEl.style.display =\n",
              "          google.colab.kernel.accessAllowed ? 'block' : 'none';\n",
              "\n",
              "        async function convertToInteractive(key) {\n",
              "          const element = document.querySelector('#df-e852ea51-966d-462b-8e3d-d05bdef6eebe');\n",
              "          const dataTable =\n",
              "            await google.colab.kernel.invokeFunction('convertToInteractive',\n",
              "                                                     [key], {});\n",
              "          if (!dataTable) return;\n",
              "\n",
              "          const docLinkHtml = 'Like what you see? Visit the ' +\n",
              "            '<a target=\"_blank\" href=https://colab.research.google.com/notebooks/data_table.ipynb>data table notebook</a>'\n",
              "            + ' to learn more about interactive tables.';\n",
              "          element.innerHTML = '';\n",
              "          dataTable['output_type'] = 'display_data';\n",
              "          await google.colab.output.renderOutput(dataTable, element);\n",
              "          const docLink = document.createElement('div');\n",
              "          docLink.innerHTML = docLinkHtml;\n",
              "          element.appendChild(docLink);\n",
              "        }\n",
              "      </script>\n",
              "    </div>\n",
              "  </div>\n",
              "  "
            ]
          },
          "metadata": {},
          "execution_count": 113
        }
      ]
    },
    {
      "cell_type": "markdown",
      "source": [
        "#conclusiones\n",
        "#Podemos ver que la variable \"área de la piscina\" no afecta los primeros 10 datos\n",
        "#Tambien podemos ver que la variable \"arteria\" solo afecta a los dos últimos datos \n",
        "#Por último podemos ver que las demas variables si afectas a los 10 primeros datos"
      ],
      "metadata": {
        "id": "kux3HAkNrcMT"
      }
    },
    {
      "cell_type": "code",
      "source": [
        "df.tail(10)"
      ],
      "metadata": {
        "colab": {
          "base_uri": "https://localhost:8080/",
          "height": 407
        },
        "id": "h6OdcxcAm0n7",
        "outputId": "74d08123-f6dd-4515-cc31-bb413611680a"
      },
      "execution_count": null,
      "outputs": [
        {
          "output_type": "execute_result",
          "data": {
            "text/plain": [
              "      LotArea  OverallQual  OverallCond  YearBuilt  YearRemodAdd  ExterQual  \\\n",
              "1450     9000            5            5         48            48          3   \n",
              "1451     9262            8            5         14            13          4   \n",
              "1452     3675            5            5         17            17          3   \n",
              "1453    17217            5            5         16            16          3   \n",
              "1454     7500            7            5         18            17          4   \n",
              "1455     7917            6            5         23            22          3   \n",
              "1456    13175            6            6         44            34          3   \n",
              "1457     9042            7            9         81            16          5   \n",
              "1458     9717            5            6         72            26          3   \n",
              "1459     9937            5            6         57            57          4   \n",
              "\n",
              "      ExterCond  BedroomAbvGr  GarageCars  PoolArea  SalePrice  Artery  \n",
              "1450          3             4           0         0     136000       0  \n",
              "1451          3             3           3         0     287090       0  \n",
              "1452          3             2           2         0     145000       0  \n",
              "1453          3             3           0         0      84500       0  \n",
              "1454          3             2           2         0     185000       0  \n",
              "1455          3             3           2         0     175000       0  \n",
              "1456          3             3           2         0     210000       0  \n",
              "1457          4             4           1         0     266500       0  \n",
              "1458          3             2           1         0     142125       0  \n",
              "1459          3             3           1         0     147500       0  "
            ],
            "text/html": [
              "\n",
              "  <div id=\"df-16a0771b-e470-4357-98d6-df61d9d5e7a6\">\n",
              "    <div class=\"colab-df-container\">\n",
              "      <div>\n",
              "<style scoped>\n",
              "    .dataframe tbody tr th:only-of-type {\n",
              "        vertical-align: middle;\n",
              "    }\n",
              "\n",
              "    .dataframe tbody tr th {\n",
              "        vertical-align: top;\n",
              "    }\n",
              "\n",
              "    .dataframe thead th {\n",
              "        text-align: right;\n",
              "    }\n",
              "</style>\n",
              "<table border=\"1\" class=\"dataframe\">\n",
              "  <thead>\n",
              "    <tr style=\"text-align: right;\">\n",
              "      <th></th>\n",
              "      <th>LotArea</th>\n",
              "      <th>OverallQual</th>\n",
              "      <th>OverallCond</th>\n",
              "      <th>YearBuilt</th>\n",
              "      <th>YearRemodAdd</th>\n",
              "      <th>ExterQual</th>\n",
              "      <th>ExterCond</th>\n",
              "      <th>BedroomAbvGr</th>\n",
              "      <th>GarageCars</th>\n",
              "      <th>PoolArea</th>\n",
              "      <th>SalePrice</th>\n",
              "      <th>Artery</th>\n",
              "    </tr>\n",
              "  </thead>\n",
              "  <tbody>\n",
              "    <tr>\n",
              "      <th>1450</th>\n",
              "      <td>9000</td>\n",
              "      <td>5</td>\n",
              "      <td>5</td>\n",
              "      <td>48</td>\n",
              "      <td>48</td>\n",
              "      <td>3</td>\n",
              "      <td>3</td>\n",
              "      <td>4</td>\n",
              "      <td>0</td>\n",
              "      <td>0</td>\n",
              "      <td>136000</td>\n",
              "      <td>0</td>\n",
              "    </tr>\n",
              "    <tr>\n",
              "      <th>1451</th>\n",
              "      <td>9262</td>\n",
              "      <td>8</td>\n",
              "      <td>5</td>\n",
              "      <td>14</td>\n",
              "      <td>13</td>\n",
              "      <td>4</td>\n",
              "      <td>3</td>\n",
              "      <td>3</td>\n",
              "      <td>3</td>\n",
              "      <td>0</td>\n",
              "      <td>287090</td>\n",
              "      <td>0</td>\n",
              "    </tr>\n",
              "    <tr>\n",
              "      <th>1452</th>\n",
              "      <td>3675</td>\n",
              "      <td>5</td>\n",
              "      <td>5</td>\n",
              "      <td>17</td>\n",
              "      <td>17</td>\n",
              "      <td>3</td>\n",
              "      <td>3</td>\n",
              "      <td>2</td>\n",
              "      <td>2</td>\n",
              "      <td>0</td>\n",
              "      <td>145000</td>\n",
              "      <td>0</td>\n",
              "    </tr>\n",
              "    <tr>\n",
              "      <th>1453</th>\n",
              "      <td>17217</td>\n",
              "      <td>5</td>\n",
              "      <td>5</td>\n",
              "      <td>16</td>\n",
              "      <td>16</td>\n",
              "      <td>3</td>\n",
              "      <td>3</td>\n",
              "      <td>3</td>\n",
              "      <td>0</td>\n",
              "      <td>0</td>\n",
              "      <td>84500</td>\n",
              "      <td>0</td>\n",
              "    </tr>\n",
              "    <tr>\n",
              "      <th>1454</th>\n",
              "      <td>7500</td>\n",
              "      <td>7</td>\n",
              "      <td>5</td>\n",
              "      <td>18</td>\n",
              "      <td>17</td>\n",
              "      <td>4</td>\n",
              "      <td>3</td>\n",
              "      <td>2</td>\n",
              "      <td>2</td>\n",
              "      <td>0</td>\n",
              "      <td>185000</td>\n",
              "      <td>0</td>\n",
              "    </tr>\n",
              "    <tr>\n",
              "      <th>1455</th>\n",
              "      <td>7917</td>\n",
              "      <td>6</td>\n",
              "      <td>5</td>\n",
              "      <td>23</td>\n",
              "      <td>22</td>\n",
              "      <td>3</td>\n",
              "      <td>3</td>\n",
              "      <td>3</td>\n",
              "      <td>2</td>\n",
              "      <td>0</td>\n",
              "      <td>175000</td>\n",
              "      <td>0</td>\n",
              "    </tr>\n",
              "    <tr>\n",
              "      <th>1456</th>\n",
              "      <td>13175</td>\n",
              "      <td>6</td>\n",
              "      <td>6</td>\n",
              "      <td>44</td>\n",
              "      <td>34</td>\n",
              "      <td>3</td>\n",
              "      <td>3</td>\n",
              "      <td>3</td>\n",
              "      <td>2</td>\n",
              "      <td>0</td>\n",
              "      <td>210000</td>\n",
              "      <td>0</td>\n",
              "    </tr>\n",
              "    <tr>\n",
              "      <th>1457</th>\n",
              "      <td>9042</td>\n",
              "      <td>7</td>\n",
              "      <td>9</td>\n",
              "      <td>81</td>\n",
              "      <td>16</td>\n",
              "      <td>5</td>\n",
              "      <td>4</td>\n",
              "      <td>4</td>\n",
              "      <td>1</td>\n",
              "      <td>0</td>\n",
              "      <td>266500</td>\n",
              "      <td>0</td>\n",
              "    </tr>\n",
              "    <tr>\n",
              "      <th>1458</th>\n",
              "      <td>9717</td>\n",
              "      <td>5</td>\n",
              "      <td>6</td>\n",
              "      <td>72</td>\n",
              "      <td>26</td>\n",
              "      <td>3</td>\n",
              "      <td>3</td>\n",
              "      <td>2</td>\n",
              "      <td>1</td>\n",
              "      <td>0</td>\n",
              "      <td>142125</td>\n",
              "      <td>0</td>\n",
              "    </tr>\n",
              "    <tr>\n",
              "      <th>1459</th>\n",
              "      <td>9937</td>\n",
              "      <td>5</td>\n",
              "      <td>6</td>\n",
              "      <td>57</td>\n",
              "      <td>57</td>\n",
              "      <td>4</td>\n",
              "      <td>3</td>\n",
              "      <td>3</td>\n",
              "      <td>1</td>\n",
              "      <td>0</td>\n",
              "      <td>147500</td>\n",
              "      <td>0</td>\n",
              "    </tr>\n",
              "  </tbody>\n",
              "</table>\n",
              "</div>\n",
              "      <button class=\"colab-df-convert\" onclick=\"convertToInteractive('df-16a0771b-e470-4357-98d6-df61d9d5e7a6')\"\n",
              "              title=\"Convert this dataframe to an interactive table.\"\n",
              "              style=\"display:none;\">\n",
              "        \n",
              "  <svg xmlns=\"http://www.w3.org/2000/svg\" height=\"24px\"viewBox=\"0 0 24 24\"\n",
              "       width=\"24px\">\n",
              "    <path d=\"M0 0h24v24H0V0z\" fill=\"none\"/>\n",
              "    <path d=\"M18.56 5.44l.94 2.06.94-2.06 2.06-.94-2.06-.94-.94-2.06-.94 2.06-2.06.94zm-11 1L8.5 8.5l.94-2.06 2.06-.94-2.06-.94L8.5 2.5l-.94 2.06-2.06.94zm10 10l.94 2.06.94-2.06 2.06-.94-2.06-.94-.94-2.06-.94 2.06-2.06.94z\"/><path d=\"M17.41 7.96l-1.37-1.37c-.4-.4-.92-.59-1.43-.59-.52 0-1.04.2-1.43.59L10.3 9.45l-7.72 7.72c-.78.78-.78 2.05 0 2.83L4 21.41c.39.39.9.59 1.41.59.51 0 1.02-.2 1.41-.59l7.78-7.78 2.81-2.81c.8-.78.8-2.07 0-2.86zM5.41 20L4 18.59l7.72-7.72 1.47 1.35L5.41 20z\"/>\n",
              "  </svg>\n",
              "      </button>\n",
              "      \n",
              "  <style>\n",
              "    .colab-df-container {\n",
              "      display:flex;\n",
              "      flex-wrap:wrap;\n",
              "      gap: 12px;\n",
              "    }\n",
              "\n",
              "    .colab-df-convert {\n",
              "      background-color: #E8F0FE;\n",
              "      border: none;\n",
              "      border-radius: 50%;\n",
              "      cursor: pointer;\n",
              "      display: none;\n",
              "      fill: #1967D2;\n",
              "      height: 32px;\n",
              "      padding: 0 0 0 0;\n",
              "      width: 32px;\n",
              "    }\n",
              "\n",
              "    .colab-df-convert:hover {\n",
              "      background-color: #E2EBFA;\n",
              "      box-shadow: 0px 1px 2px rgba(60, 64, 67, 0.3), 0px 1px 3px 1px rgba(60, 64, 67, 0.15);\n",
              "      fill: #174EA6;\n",
              "    }\n",
              "\n",
              "    [theme=dark] .colab-df-convert {\n",
              "      background-color: #3B4455;\n",
              "      fill: #D2E3FC;\n",
              "    }\n",
              "\n",
              "    [theme=dark] .colab-df-convert:hover {\n",
              "      background-color: #434B5C;\n",
              "      box-shadow: 0px 1px 3px 1px rgba(0, 0, 0, 0.15);\n",
              "      filter: drop-shadow(0px 1px 2px rgba(0, 0, 0, 0.3));\n",
              "      fill: #FFFFFF;\n",
              "    }\n",
              "  </style>\n",
              "\n",
              "      <script>\n",
              "        const buttonEl =\n",
              "          document.querySelector('#df-16a0771b-e470-4357-98d6-df61d9d5e7a6 button.colab-df-convert');\n",
              "        buttonEl.style.display =\n",
              "          google.colab.kernel.accessAllowed ? 'block' : 'none';\n",
              "\n",
              "        async function convertToInteractive(key) {\n",
              "          const element = document.querySelector('#df-16a0771b-e470-4357-98d6-df61d9d5e7a6');\n",
              "          const dataTable =\n",
              "            await google.colab.kernel.invokeFunction('convertToInteractive',\n",
              "                                                     [key], {});\n",
              "          if (!dataTable) return;\n",
              "\n",
              "          const docLinkHtml = 'Like what you see? Visit the ' +\n",
              "            '<a target=\"_blank\" href=https://colab.research.google.com/notebooks/data_table.ipynb>data table notebook</a>'\n",
              "            + ' to learn more about interactive tables.';\n",
              "          element.innerHTML = '';\n",
              "          dataTable['output_type'] = 'display_data';\n",
              "          await google.colab.output.renderOutput(dataTable, element);\n",
              "          const docLink = document.createElement('div');\n",
              "          docLink.innerHTML = docLinkHtml;\n",
              "          element.appendChild(docLink);\n",
              "        }\n",
              "      </script>\n",
              "    </div>\n",
              "  </div>\n",
              "  "
            ]
          },
          "metadata": {},
          "execution_count": 114
        }
      ]
    },
    {
      "cell_type": "markdown",
      "source": [
        "#Conclusiones\n",
        "#Podemos ver que en estos últimos 10 datos tampoco se ven afectada por la variable \"área de la piscina\"\n",
        "#Tambien podemos ver que en estos últimos 10 datos la variable \"arteria\" no afecta a ninguno\n"
      ],
      "metadata": {
        "id": "uhNpVgmmth9w"
      }
    },
    {
      "cell_type": "code",
      "source": [
        "df.info()"
      ],
      "metadata": {
        "colab": {
          "base_uri": "https://localhost:8080/"
        },
        "id": "tC5C43-Tm3Cr",
        "outputId": "8d689498-84d3-4323-fa49-9d0ac3518b86"
      },
      "execution_count": null,
      "outputs": [
        {
          "output_type": "stream",
          "name": "stdout",
          "text": [
            "<class 'pandas.core.frame.DataFrame'>\n",
            "RangeIndex: 1460 entries, 0 to 1459\n",
            "Data columns (total 12 columns):\n",
            " #   Column        Non-Null Count  Dtype\n",
            "---  ------        --------------  -----\n",
            " 0   LotArea       1460 non-null   int64\n",
            " 1   OverallQual   1460 non-null   int64\n",
            " 2   OverallCond   1460 non-null   int64\n",
            " 3   YearBuilt     1460 non-null   int64\n",
            " 4   YearRemodAdd  1460 non-null   int64\n",
            " 5   ExterQual     1460 non-null   int64\n",
            " 6   ExterCond     1460 non-null   int64\n",
            " 7   BedroomAbvGr  1460 non-null   int64\n",
            " 8   GarageCars    1460 non-null   int64\n",
            " 9   PoolArea      1460 non-null   int64\n",
            " 10  SalePrice     1460 non-null   int64\n",
            " 11  Artery        1460 non-null   int64\n",
            "dtypes: int64(12)\n",
            "memory usage: 137.0 KB\n"
          ]
        }
      ]
    },
    {
      "cell_type": "markdown",
      "source": [
        "#podemos ver que en esta informacion todas la variables son enteras y tienen la misma cantidad de datos 1460"
      ],
      "metadata": {
        "id": "PgUt1OnoyXeG"
      }
    },
    {
      "cell_type": "code",
      "source": [
        "df.describe()"
      ],
      "metadata": {
        "colab": {
          "base_uri": "https://localhost:8080/",
          "height": 364
        },
        "id": "mYx2fJiAn8nC",
        "outputId": "6de231d8-dbd9-4756-8709-35285f674262"
      },
      "execution_count": null,
      "outputs": [
        {
          "output_type": "execute_result",
          "data": {
            "text/plain": [
              "             LotArea  OverallQual  OverallCond    YearBuilt  YearRemodAdd  \\\n",
              "count    1460.000000  1460.000000  1460.000000  1460.000000   1460.000000   \n",
              "mean    10516.828082     6.099315     5.575342    50.732192     37.134247   \n",
              "std      9981.264932     1.382997     1.112799    30.202904     20.645407   \n",
              "min      1300.000000     1.000000     1.000000    12.000000     12.000000   \n",
              "25%      7553.500000     5.000000     5.000000    22.000000     18.000000   \n",
              "50%      9478.500000     6.000000     5.000000    49.000000     28.000000   \n",
              "75%     11601.500000     7.000000     6.000000    68.000000     55.000000   \n",
              "max    215245.000000    10.000000     9.000000   150.000000     72.000000   \n",
              "\n",
              "        ExterQual    ExterCond  BedroomAbvGr   GarageCars     PoolArea  \\\n",
              "count  1460.00000  1460.000000   1460.000000  1460.000000  1460.000000   \n",
              "mean      3.39589     3.083562      2.866438     1.767123     2.758904   \n",
              "std       0.57428     0.351054      0.815778     0.747315    40.177307   \n",
              "min       2.00000     1.000000      0.000000     0.000000     0.000000   \n",
              "25%       3.00000     3.000000      2.000000     1.000000     0.000000   \n",
              "50%       3.00000     3.000000      3.000000     2.000000     0.000000   \n",
              "75%       4.00000     3.000000      3.000000     2.000000     0.000000   \n",
              "max       5.00000     5.000000      8.000000     4.000000   738.000000   \n",
              "\n",
              "           SalePrice       Artery  \n",
              "count    1460.000000  1460.000000  \n",
              "mean   180921.195890     0.032877  \n",
              "std     79442.502883     0.178375  \n",
              "min     34900.000000     0.000000  \n",
              "25%    129975.000000     0.000000  \n",
              "50%    163000.000000     0.000000  \n",
              "75%    214000.000000     0.000000  \n",
              "max    755000.000000     1.000000  "
            ],
            "text/html": [
              "\n",
              "  <div id=\"df-909dbdd1-dbce-4d69-b15b-1b07d0624c16\">\n",
              "    <div class=\"colab-df-container\">\n",
              "      <div>\n",
              "<style scoped>\n",
              "    .dataframe tbody tr th:only-of-type {\n",
              "        vertical-align: middle;\n",
              "    }\n",
              "\n",
              "    .dataframe tbody tr th {\n",
              "        vertical-align: top;\n",
              "    }\n",
              "\n",
              "    .dataframe thead th {\n",
              "        text-align: right;\n",
              "    }\n",
              "</style>\n",
              "<table border=\"1\" class=\"dataframe\">\n",
              "  <thead>\n",
              "    <tr style=\"text-align: right;\">\n",
              "      <th></th>\n",
              "      <th>LotArea</th>\n",
              "      <th>OverallQual</th>\n",
              "      <th>OverallCond</th>\n",
              "      <th>YearBuilt</th>\n",
              "      <th>YearRemodAdd</th>\n",
              "      <th>ExterQual</th>\n",
              "      <th>ExterCond</th>\n",
              "      <th>BedroomAbvGr</th>\n",
              "      <th>GarageCars</th>\n",
              "      <th>PoolArea</th>\n",
              "      <th>SalePrice</th>\n",
              "      <th>Artery</th>\n",
              "    </tr>\n",
              "  </thead>\n",
              "  <tbody>\n",
              "    <tr>\n",
              "      <th>count</th>\n",
              "      <td>1460.000000</td>\n",
              "      <td>1460.000000</td>\n",
              "      <td>1460.000000</td>\n",
              "      <td>1460.000000</td>\n",
              "      <td>1460.000000</td>\n",
              "      <td>1460.00000</td>\n",
              "      <td>1460.000000</td>\n",
              "      <td>1460.000000</td>\n",
              "      <td>1460.000000</td>\n",
              "      <td>1460.000000</td>\n",
              "      <td>1460.000000</td>\n",
              "      <td>1460.000000</td>\n",
              "    </tr>\n",
              "    <tr>\n",
              "      <th>mean</th>\n",
              "      <td>10516.828082</td>\n",
              "      <td>6.099315</td>\n",
              "      <td>5.575342</td>\n",
              "      <td>50.732192</td>\n",
              "      <td>37.134247</td>\n",
              "      <td>3.39589</td>\n",
              "      <td>3.083562</td>\n",
              "      <td>2.866438</td>\n",
              "      <td>1.767123</td>\n",
              "      <td>2.758904</td>\n",
              "      <td>180921.195890</td>\n",
              "      <td>0.032877</td>\n",
              "    </tr>\n",
              "    <tr>\n",
              "      <th>std</th>\n",
              "      <td>9981.264932</td>\n",
              "      <td>1.382997</td>\n",
              "      <td>1.112799</td>\n",
              "      <td>30.202904</td>\n",
              "      <td>20.645407</td>\n",
              "      <td>0.57428</td>\n",
              "      <td>0.351054</td>\n",
              "      <td>0.815778</td>\n",
              "      <td>0.747315</td>\n",
              "      <td>40.177307</td>\n",
              "      <td>79442.502883</td>\n",
              "      <td>0.178375</td>\n",
              "    </tr>\n",
              "    <tr>\n",
              "      <th>min</th>\n",
              "      <td>1300.000000</td>\n",
              "      <td>1.000000</td>\n",
              "      <td>1.000000</td>\n",
              "      <td>12.000000</td>\n",
              "      <td>12.000000</td>\n",
              "      <td>2.00000</td>\n",
              "      <td>1.000000</td>\n",
              "      <td>0.000000</td>\n",
              "      <td>0.000000</td>\n",
              "      <td>0.000000</td>\n",
              "      <td>34900.000000</td>\n",
              "      <td>0.000000</td>\n",
              "    </tr>\n",
              "    <tr>\n",
              "      <th>25%</th>\n",
              "      <td>7553.500000</td>\n",
              "      <td>5.000000</td>\n",
              "      <td>5.000000</td>\n",
              "      <td>22.000000</td>\n",
              "      <td>18.000000</td>\n",
              "      <td>3.00000</td>\n",
              "      <td>3.000000</td>\n",
              "      <td>2.000000</td>\n",
              "      <td>1.000000</td>\n",
              "      <td>0.000000</td>\n",
              "      <td>129975.000000</td>\n",
              "      <td>0.000000</td>\n",
              "    </tr>\n",
              "    <tr>\n",
              "      <th>50%</th>\n",
              "      <td>9478.500000</td>\n",
              "      <td>6.000000</td>\n",
              "      <td>5.000000</td>\n",
              "      <td>49.000000</td>\n",
              "      <td>28.000000</td>\n",
              "      <td>3.00000</td>\n",
              "      <td>3.000000</td>\n",
              "      <td>3.000000</td>\n",
              "      <td>2.000000</td>\n",
              "      <td>0.000000</td>\n",
              "      <td>163000.000000</td>\n",
              "      <td>0.000000</td>\n",
              "    </tr>\n",
              "    <tr>\n",
              "      <th>75%</th>\n",
              "      <td>11601.500000</td>\n",
              "      <td>7.000000</td>\n",
              "      <td>6.000000</td>\n",
              "      <td>68.000000</td>\n",
              "      <td>55.000000</td>\n",
              "      <td>4.00000</td>\n",
              "      <td>3.000000</td>\n",
              "      <td>3.000000</td>\n",
              "      <td>2.000000</td>\n",
              "      <td>0.000000</td>\n",
              "      <td>214000.000000</td>\n",
              "      <td>0.000000</td>\n",
              "    </tr>\n",
              "    <tr>\n",
              "      <th>max</th>\n",
              "      <td>215245.000000</td>\n",
              "      <td>10.000000</td>\n",
              "      <td>9.000000</td>\n",
              "      <td>150.000000</td>\n",
              "      <td>72.000000</td>\n",
              "      <td>5.00000</td>\n",
              "      <td>5.000000</td>\n",
              "      <td>8.000000</td>\n",
              "      <td>4.000000</td>\n",
              "      <td>738.000000</td>\n",
              "      <td>755000.000000</td>\n",
              "      <td>1.000000</td>\n",
              "    </tr>\n",
              "  </tbody>\n",
              "</table>\n",
              "</div>\n",
              "      <button class=\"colab-df-convert\" onclick=\"convertToInteractive('df-909dbdd1-dbce-4d69-b15b-1b07d0624c16')\"\n",
              "              title=\"Convert this dataframe to an interactive table.\"\n",
              "              style=\"display:none;\">\n",
              "        \n",
              "  <svg xmlns=\"http://www.w3.org/2000/svg\" height=\"24px\"viewBox=\"0 0 24 24\"\n",
              "       width=\"24px\">\n",
              "    <path d=\"M0 0h24v24H0V0z\" fill=\"none\"/>\n",
              "    <path d=\"M18.56 5.44l.94 2.06.94-2.06 2.06-.94-2.06-.94-.94-2.06-.94 2.06-2.06.94zm-11 1L8.5 8.5l.94-2.06 2.06-.94-2.06-.94L8.5 2.5l-.94 2.06-2.06.94zm10 10l.94 2.06.94-2.06 2.06-.94-2.06-.94-.94-2.06-.94 2.06-2.06.94z\"/><path d=\"M17.41 7.96l-1.37-1.37c-.4-.4-.92-.59-1.43-.59-.52 0-1.04.2-1.43.59L10.3 9.45l-7.72 7.72c-.78.78-.78 2.05 0 2.83L4 21.41c.39.39.9.59 1.41.59.51 0 1.02-.2 1.41-.59l7.78-7.78 2.81-2.81c.8-.78.8-2.07 0-2.86zM5.41 20L4 18.59l7.72-7.72 1.47 1.35L5.41 20z\"/>\n",
              "  </svg>\n",
              "      </button>\n",
              "      \n",
              "  <style>\n",
              "    .colab-df-container {\n",
              "      display:flex;\n",
              "      flex-wrap:wrap;\n",
              "      gap: 12px;\n",
              "    }\n",
              "\n",
              "    .colab-df-convert {\n",
              "      background-color: #E8F0FE;\n",
              "      border: none;\n",
              "      border-radius: 50%;\n",
              "      cursor: pointer;\n",
              "      display: none;\n",
              "      fill: #1967D2;\n",
              "      height: 32px;\n",
              "      padding: 0 0 0 0;\n",
              "      width: 32px;\n",
              "    }\n",
              "\n",
              "    .colab-df-convert:hover {\n",
              "      background-color: #E2EBFA;\n",
              "      box-shadow: 0px 1px 2px rgba(60, 64, 67, 0.3), 0px 1px 3px 1px rgba(60, 64, 67, 0.15);\n",
              "      fill: #174EA6;\n",
              "    }\n",
              "\n",
              "    [theme=dark] .colab-df-convert {\n",
              "      background-color: #3B4455;\n",
              "      fill: #D2E3FC;\n",
              "    }\n",
              "\n",
              "    [theme=dark] .colab-df-convert:hover {\n",
              "      background-color: #434B5C;\n",
              "      box-shadow: 0px 1px 3px 1px rgba(0, 0, 0, 0.15);\n",
              "      filter: drop-shadow(0px 1px 2px rgba(0, 0, 0, 0.3));\n",
              "      fill: #FFFFFF;\n",
              "    }\n",
              "  </style>\n",
              "\n",
              "      <script>\n",
              "        const buttonEl =\n",
              "          document.querySelector('#df-909dbdd1-dbce-4d69-b15b-1b07d0624c16 button.colab-df-convert');\n",
              "        buttonEl.style.display =\n",
              "          google.colab.kernel.accessAllowed ? 'block' : 'none';\n",
              "\n",
              "        async function convertToInteractive(key) {\n",
              "          const element = document.querySelector('#df-909dbdd1-dbce-4d69-b15b-1b07d0624c16');\n",
              "          const dataTable =\n",
              "            await google.colab.kernel.invokeFunction('convertToInteractive',\n",
              "                                                     [key], {});\n",
              "          if (!dataTable) return;\n",
              "\n",
              "          const docLinkHtml = 'Like what you see? Visit the ' +\n",
              "            '<a target=\"_blank\" href=https://colab.research.google.com/notebooks/data_table.ipynb>data table notebook</a>'\n",
              "            + ' to learn more about interactive tables.';\n",
              "          element.innerHTML = '';\n",
              "          dataTable['output_type'] = 'display_data';\n",
              "          await google.colab.output.renderOutput(dataTable, element);\n",
              "          const docLink = document.createElement('div');\n",
              "          docLink.innerHTML = docLinkHtml;\n",
              "          element.appendChild(docLink);\n",
              "        }\n",
              "      </script>\n",
              "    </div>\n",
              "  </div>\n",
              "  "
            ]
          },
          "metadata": {},
          "execution_count": 116
        }
      ]
    },
    {
      "cell_type": "markdown",
      "source": [
        "#podemos ver que todos los satos estan expresado de manera entera"
      ],
      "metadata": {
        "id": "XJiIZBoXy55D"
      }
    },
    {
      "cell_type": "code",
      "source": [
        "df.duplicated().sum()"
      ],
      "metadata": {
        "colab": {
          "base_uri": "https://localhost:8080/"
        },
        "id": "ds1cF8q9oJki",
        "outputId": "e7df0e0d-d8bf-4c7c-8a07-2f25d830b7d5"
      },
      "execution_count": null,
      "outputs": [
        {
          "output_type": "execute_result",
          "data": {
            "text/plain": [
              "0"
            ]
          },
          "metadata": {},
          "execution_count": 117
        }
      ]
    },
    {
      "cell_type": "code",
      "source": [
        "df.isna().sum()"
      ],
      "metadata": {
        "colab": {
          "base_uri": "https://localhost:8080/"
        },
        "id": "XaCl5dQRoOka",
        "outputId": "3fc1bc3b-3810-4f77-da9d-733e523773f8"
      },
      "execution_count": null,
      "outputs": [
        {
          "output_type": "execute_result",
          "data": {
            "text/plain": [
              "LotArea         0\n",
              "OverallQual     0\n",
              "OverallCond     0\n",
              "YearBuilt       0\n",
              "YearRemodAdd    0\n",
              "ExterQual       0\n",
              "ExterCond       0\n",
              "BedroomAbvGr    0\n",
              "GarageCars      0\n",
              "PoolArea        0\n",
              "SalePrice       0\n",
              "Artery          0\n",
              "dtype: int64"
            ]
          },
          "metadata": {},
          "execution_count": 118
        }
      ]
    },
    {
      "cell_type": "code",
      "source": [
        "plt.hist(df['LotArea'])"
      ],
      "metadata": {
        "colab": {
          "base_uri": "https://localhost:8080/",
          "height": 357
        },
        "id": "j_K7oVbsoYkR",
        "outputId": "fecd9ef0-f950-48a7-cc69-e6cc638800f1"
      },
      "execution_count": null,
      "outputs": [
        {
          "output_type": "execute_result",
          "data": {
            "text/plain": [
              "(array([1.423e+03, 2.400e+01, 8.000e+00, 1.000e+00, 0.000e+00, 1.000e+00,\n",
              "        0.000e+00, 2.000e+00, 0.000e+00, 1.000e+00]),\n",
              " array([  1300. ,  22694.5,  44089. ,  65483.5,  86878. , 108272.5,\n",
              "        129667. , 151061.5, 172456. , 193850.5, 215245. ]),\n",
              " <a list of 10 Patch objects>)"
            ]
          },
          "metadata": {},
          "execution_count": 119
        },
        {
          "output_type": "display_data",
          "data": {
            "text/plain": [
              "<Figure size 432x288 with 1 Axes>"
            ],
            "image/png": "[encoded data removed]"
          },
          "metadata": {
            "needs_background": "light"
          }
        }
      ]
    },
    {
      "cell_type": "markdown",
      "source": [
        "#podemos ver que las viviendas tiene un area entre 0 y 50000"
      ],
      "metadata": {
        "id": "s1G4H3tQzPIl"
      }
    },
    {
      "cell_type": "code",
      "source": [
        "plt.hist(df['OverallQual'])"
      ],
      "metadata": {
        "colab": {
          "base_uri": "https://localhost:8080/",
          "height": 320
        },
        "id": "1NbyBLXyqRq4",
        "outputId": "8ed9736b-a2c8-4825-f791-a60a9a67f17a"
      },
      "execution_count": null,
      "outputs": [
        {
          "output_type": "execute_result",
          "data": {
            "text/plain": [
              "(array([  2.,   3.,  20., 116., 397., 374., 319., 168.,  43.,  18.]),\n",
              " array([ 1. ,  1.9,  2.8,  3.7,  4.6,  5.5,  6.4,  7.3,  8.2,  9.1, 10. ]),\n",
              " <a list of 10 Patch objects>)"
            ]
          },
          "metadata": {},
          "execution_count": 120
        },
        {
          "output_type": "display_data",
          "data": {
            "text/plain": [
              "<Figure size 432x288 with 1 Axes>"
            ],
            "image/png": "[encoded data removed]"
          },
          "metadata": {
            "needs_background": "light"
          }
        }
      ]
    },
    {
      "cell_type": "markdown",
      "source": [
        "podemos ver que la calidad general del inmueble varia entre 2 y 10"
      ],
      "metadata": {
        "id": "8Y8UmcFL1QQM"
      }
    },
    {
      "cell_type": "code",
      "source": [
        "plt.hist(df['OverallCond'])"
      ],
      "metadata": {
        "colab": {
          "base_uri": "https://localhost:8080/",
          "height": 320
        },
        "id": "sfc4026PqWlg",
        "outputId": "6e48a0ec-b207-4443-f383-aba9624265d3"
      },
      "execution_count": null,
      "outputs": [
        {
          "output_type": "execute_result",
          "data": {
            "text/plain": [
              "(array([  1.,   5.,  25.,  57.,   0., 821., 252., 205.,  72.,  22.]),\n",
              " array([1. , 1.8, 2.6, 3.4, 4.2, 5. , 5.8, 6.6, 7.4, 8.2, 9. ]),\n",
              " <a list of 10 Patch objects>)"
            ]
          },
          "metadata": {},
          "execution_count": 121
        },
        {
          "output_type": "display_data",
          "data": {
            "text/plain": [
              "<Figure size 432x288 with 1 Axes>"
            ],
            "image/png": "[encoded data removed]"
          },
          "metadata": {
            "needs_background": "light"
          }
        }
      ]
    },
    {
      "cell_type": "markdown",
      "source": [
        "podemos ver que la condicion general del inmueble varia primero entre 2 y 4 y segundo entre 5 y 9"
      ],
      "metadata": {
        "id": "GAkJ5faf17yw"
      }
    },
    {
      "cell_type": "code",
      "source": [
        "plt.hist(df['YearBuilt'])"
      ],
      "metadata": {
        "colab": {
          "base_uri": "https://localhost:8080/",
          "height": 339
        },
        "id": "65khS8GnqcEQ",
        "outputId": "d9da6ece-97e5-4ffe-e2bb-f58dd0584e3c"
      },
      "execution_count": null,
      "outputs": [
        {
          "output_type": "execute_result",
          "data": {
            "text/plain": [
              "(array([452., 139., 223., 261., 113.,  98., 122.,  37.,   6.,   9.]),\n",
              " array([ 12. ,  25.8,  39.6,  53.4,  67.2,  81. ,  94.8, 108.6, 122.4,\n",
              "        136.2, 150. ]),\n",
              " <a list of 10 Patch objects>)"
            ]
          },
          "metadata": {},
          "execution_count": 122
        },
        {
          "output_type": "display_data",
          "data": {
            "text/plain": [
              "<Figure size 432x288 with 1 Axes>"
            ],
            "image/png": "[encoded data removed]"
          },
          "metadata": {
            "needs_background": "light"
          }
        }
      ]
    },
    {
      "cell_type": "markdown",
      "source": [
        "podemos ver que el año de construccion varia entre 10 y 150 aproximadamente"
      ],
      "metadata": {
        "id": "Hr7FOWUH2NB6"
      }
    },
    {
      "cell_type": "code",
      "source": [
        "plt.hist(df['YearRemodAdd'])"
      ],
      "metadata": {
        "colab": {
          "base_uri": "https://localhost:8080/",
          "height": 320
        },
        "id": "f0Ux493AqjjY",
        "outputId": "52c36fdc-79a1-4a37-cf5c-e90254f29487"
      },
      "execution_count": null,
      "outputs": [
        {
          "output_type": "execute_result",
          "data": {
            "text/plain": [
              "(array([315., 267., 169.,  76.,  41., 103.,  96.,  87.,  76., 230.]),\n",
              " array([12., 18., 24., 30., 36., 42., 48., 54., 60., 66., 72.]),\n",
              " <a list of 10 Patch objects>)"
            ]
          },
          "metadata": {},
          "execution_count": 123
        },
        {
          "output_type": "display_data",
          "data": {
            "text/plain": [
              "<Figure size 432x288 with 1 Axes>"
            ],
            "image/png": "[encoded data removed]"
          },
          "metadata": {
            "needs_background": "light"
          }
        }
      ]
    },
    {
      "cell_type": "markdown",
      "source": [
        "podemos ver que el año de remodelacion varia entre 12 y 72 aproximadamente"
      ],
      "metadata": {
        "id": "CjTHDXVX2adJ"
      }
    },
    {
      "cell_type": "code",
      "source": [
        "plt.hist(df['ExterQual'])"
      ],
      "metadata": {
        "colab": {
          "base_uri": "https://localhost:8080/",
          "height": 320
        },
        "id": "MQmA-jM8qqyY",
        "outputId": "8e6cc674-d413-48e3-919d-66e2d7915b8c"
      },
      "execution_count": null,
      "outputs": [
        {
          "output_type": "execute_result",
          "data": {
            "text/plain": [
              "(array([ 14.,   0.,   0., 906.,   0.,   0., 488.,   0.,   0.,  52.]),\n",
              " array([2. , 2.3, 2.6, 2.9, 3.2, 3.5, 3.8, 4.1, 4.4, 4.7, 5. ]),\n",
              " <a list of 10 Patch objects>)"
            ]
          },
          "metadata": {},
          "execution_count": 124
        },
        {
          "output_type": "display_data",
          "data": {
            "text/plain": [
              "<Figure size 432x288 with 1 Axes>"
            ],
            "image/png": "[encoded data removed]"
          },
          "metadata": {
            "needs_background": "light"
          }
        }
      ]
    },
    {
      "cell_type": "markdown",
      "source": [
        "podemos ver que la calidad de la fachada varia "
      ],
      "metadata": {
        "id": "UTHFUWOt201X"
      }
    },
    {
      "cell_type": "code",
      "source": [
        "plt.hist(df['ExterCond'])"
      ],
      "metadata": {
        "colab": {
          "base_uri": "https://localhost:8080/",
          "height": 339
        },
        "id": "GUhc0p3XrI4A",
        "outputId": "b9d682c5-b973-4236-cb42-55f435c11ad7"
      },
      "execution_count": null,
      "outputs": [
        {
          "output_type": "execute_result",
          "data": {
            "text/plain": [
              "(array([1.000e+00, 0.000e+00, 2.800e+01, 0.000e+00, 0.000e+00, 1.282e+03,\n",
              "        0.000e+00, 1.460e+02, 0.000e+00, 3.000e+00]),\n",
              " array([1. , 1.4, 1.8, 2.2, 2.6, 3. , 3.4, 3.8, 4.2, 4.6, 5. ]),\n",
              " <a list of 10 Patch objects>)"
            ]
          },
          "metadata": {},
          "execution_count": 125
        },
        {
          "output_type": "display_data",
          "data": {
            "text/plain": [
              "<Figure size 432x288 with 1 Axes>"
            ],
            "image/png": "[encoded data removed]"
          },
          "metadata": {
            "needs_background": "light"
          }
        }
      ]
    },
    {
      "cell_type": "code",
      "source": [
        "plt.hist(df['BedroomAbvGr'])"
      ],
      "metadata": {
        "colab": {
          "base_uri": "https://localhost:8080/",
          "height": 320
        },
        "id": "V6X8VbDerPCo",
        "outputId": "63ace800-1877-4cb9-a9aa-8e303e323bb1"
      },
      "execution_count": null,
      "outputs": [
        {
          "output_type": "execute_result",
          "data": {
            "text/plain": [
              "(array([  6.,  50., 358., 804.,   0., 213.,  21.,   7.,   0.,   1.]),\n",
              " array([0. , 0.8, 1.6, 2.4, 3.2, 4. , 4.8, 5.6, 6.4, 7.2, 8. ]),\n",
              " <a list of 10 Patch objects>)"
            ]
          },
          "metadata": {},
          "execution_count": 126
        },
        {
          "output_type": "display_data",
          "data": {
            "text/plain": [
              "<Figure size 432x288 with 1 Axes>"
            ],
            "image/png": "[encoded data removed]"
          },
          "metadata": {
            "needs_background": "light"
          }
        }
      ]
    },
    {
      "cell_type": "markdown",
      "source": [
        "#Podemos ver que las habitaciones varian entre 0 y 3, segundo 4 y 6 aproximadamente"
      ],
      "metadata": {
        "id": "NQmxu8ms-r9E"
      }
    },
    {
      "cell_type": "code",
      "source": [
        "plt.hist(df['GarageCars'])"
      ],
      "metadata": {
        "colab": {
          "base_uri": "https://localhost:8080/",
          "height": 320
        },
        "id": "pwgO3FPirUng",
        "outputId": "ab8dae30-57eb-439b-a878-d97e8d459298"
      },
      "execution_count": null,
      "outputs": [
        {
          "output_type": "execute_result",
          "data": {
            "text/plain": [
              "(array([ 81.,   0., 369.,   0.,   0., 824.,   0., 181.,   0.,   5.]),\n",
              " array([0. , 0.4, 0.8, 1.2, 1.6, 2. , 2.4, 2.8, 3.2, 3.6, 4. ]),\n",
              " <a list of 10 Patch objects>)"
            ]
          },
          "metadata": {},
          "execution_count": 127
        },
        {
          "output_type": "display_data",
          "data": {
            "text/plain": [
              "<Figure size 432x288 with 1 Axes>"
            ],
            "image/png": "[encoded data removed]"
          },
          "metadata": {
            "needs_background": "light"
          }
        }
      ]
    },
    {
      "cell_type": "markdown",
      "source": [
        "#Podemos ver que el numero de garajes va 0, 1, 2 , 3 aproximadamente"
      ],
      "metadata": {
        "id": "AxZP_M7H-0Kl"
      }
    },
    {
      "cell_type": "code",
      "source": [
        "plt.hist(df['PoolArea'])"
      ],
      "metadata": {
        "colab": {
          "base_uri": "https://localhost:8080/",
          "height": 357
        },
        "id": "lMLeY5Buraxm",
        "outputId": "ef51bda8-80bf-4643-994c-8917fb59c4e2"
      },
      "execution_count": null,
      "outputs": [
        {
          "output_type": "execute_result",
          "data": {
            "text/plain": [
              "(array([1.453e+03, 0.000e+00, 0.000e+00, 0.000e+00, 0.000e+00, 0.000e+00,\n",
              "        2.000e+00, 3.000e+00, 1.000e+00, 1.000e+00]),\n",
              " array([  0. ,  73.8, 147.6, 221.4, 295.2, 369. , 442.8, 516.6, 590.4,\n",
              "        664.2, 738. ]),\n",
              " <a list of 10 Patch objects>)"
            ]
          },
          "metadata": {},
          "execution_count": 128
        },
        {
          "output_type": "display_data",
          "data": {
            "text/plain": [
              "<Figure size 432x288 with 1 Axes>"
            ],
            "image/png": "[encoded data removed]"
          },
          "metadata": {
            "needs_background": "light"
          }
        }
      ]
    },
    {
      "cell_type": "markdown",
      "source": [
        "#Podemos observar que el area de la piscina varia de 0 a 1400"
      ],
      "metadata": {
        "id": "vGiA7wG8-78j"
      }
    },
    {
      "cell_type": "code",
      "source": [
        "plt.hist(df['SalePrice'])"
      ],
      "metadata": {
        "colab": {
          "base_uri": "https://localhost:8080/",
          "height": 339
        },
        "id": "vJy-xPvsr7Hx",
        "outputId": "c24bd54d-96a9-40e9-f92b-cd812c4e1a06"
      },
      "execution_count": null,
      "outputs": [
        {
          "output_type": "execute_result",
          "data": {
            "text/plain": [
              "(array([148., 723., 373., 135.,  51.,  19.,   4.,   3.,   2.,   2.]),\n",
              " array([ 34900., 106910., 178920., 250930., 322940., 394950., 466960.,\n",
              "        538970., 610980., 682990., 755000.]),\n",
              " <a list of 10 Patch objects>)"
            ]
          },
          "metadata": {},
          "execution_count": 129
        },
        {
          "output_type": "display_data",
          "data": {
            "text/plain": [
              "<Figure size 432x288 with 1 Axes>"
            ],
            "image/png": "[encoded data removed]"
          },
          "metadata": {
            "needs_background": "light"
          }
        }
      ]
    },
    {
      "cell_type": "markdown",
      "source": [
        "#Podemos ver que el precio de venta varia entre 50000 y 450000 aproximadamente"
      ],
      "metadata": {
        "id": "0Omed92O_G4A"
      }
    },
    {
      "cell_type": "code",
      "source": [
        "import seaborn as sns"
      ],
      "metadata": {
        "id": "tCmltoSHsScP"
      },
      "execution_count": null,
      "outputs": []
    },
    {
      "cell_type": "code",
      "source": [
        "sns.boxplot(data=df,  x='Artery', y='SalePrice')"
      ],
      "metadata": {
        "colab": {
          "base_uri": "https://localhost:8080/",
          "height": 297
        },
        "id": "-zIbn_OzyqMC",
        "outputId": "314f25e8-3b60-4464-b278-63ecd25aeeb7"
      },
      "execution_count": null,
      "outputs": [
        {
          "output_type": "execute_result",
          "data": {
            "text/plain": [
              "<matplotlib.axes._subplots.AxesSubplot at 0x7eff123cfa90>"
            ]
          },
          "metadata": {},
          "execution_count": 131
        },
        {
          "output_type": "display_data",
          "data": {
            "text/plain": [
              "<Figure size 432x288 with 1 Axes>"
            ],
            "image/png": "[encoded data removed]"
          },
          "metadata": {
            "needs_background": "light"
          }
        }
      ]
    },
    {
      "cell_type": "markdown",
      "source": [
        "#podemos ver que cuando tiene o no una arteria varia segun de que tan lejos o cerca este"
      ],
      "metadata": {
        "id": "tSCMiSSO_Nto"
      }
    },
    {
      "cell_type": "code",
      "source": [
        "plt.scatter(df['LotArea'],df['SalePrice'])"
      ],
      "metadata": {
        "colab": {
          "base_uri": "https://localhost:8080/",
          "height": 283
        },
        "id": "I7Vb7sBJy8uy",
        "outputId": "b6c4bd92-f9c0-443f-d336-995401df9b47"
      },
      "execution_count": null,
      "outputs": [
        {
          "output_type": "execute_result",
          "data": {
            "text/plain": [
              "<matplotlib.collections.PathCollection at 0x7eff123a8810>"
            ]
          },
          "metadata": {},
          "execution_count": 132
        },
        {
          "output_type": "display_data",
          "data": {
            "text/plain": [
              "<Figure size 432x288 with 1 Axes>"
            ],
            "image/png": "[encoded data removed]"
          },
          "metadata": {
            "needs_background": "light"
          }
        }
      ]
    },
    {
      "cell_type": "markdown",
      "source": [
        "#Podemos ver que entre estas dos variables la mayoria de viviendas que tienen area entre 0 y 50000 el precio de venta se fija de manera mas intensa en este rango de area."
      ],
      "metadata": {
        "id": "hcGDlb2dz1md"
      }
    },
    {
      "cell_type": "code",
      "source": [
        "plt.scatter(df['OverallQual'],df['SalePrice'])"
      ],
      "metadata": {
        "colab": {
          "base_uri": "https://localhost:8080/",
          "height": 283
        },
        "id": "aOH0j9nGzidp",
        "outputId": "ed2d2a34-af41-4805-e063-f4f73334961e"
      },
      "execution_count": null,
      "outputs": [
        {
          "output_type": "execute_result",
          "data": {
            "text/plain": [
              "<matplotlib.collections.PathCollection at 0x7eff12304790>"
            ]
          },
          "metadata": {},
          "execution_count": 133
        },
        {
          "output_type": "display_data",
          "data": {
            "text/plain": [
              "<Figure size 432x288 with 1 Axes>"
            ],
            "image/png": "[encoded data removed]"
          },
          "metadata": {
            "needs_background": "light"
          }
        }
      ]
    },
    {
      "cell_type": "markdown",
      "source": [
        "#Podemos ver que el precio de venta aumenta a medida que aumenta la calidad del inmueble"
      ],
      "metadata": {
        "id": "uxIV-7Tb07CI"
      }
    },
    {
      "cell_type": "code",
      "source": [
        "plt.scatter(df['OverallCond'],df['SalePrice'])"
      ],
      "metadata": {
        "colab": {
          "base_uri": "https://localhost:8080/",
          "height": 283
        },
        "id": "4zTju6aQ1ZHv",
        "outputId": "96a77422-7f4f-4a91-f542-cfebf3433435"
      },
      "execution_count": null,
      "outputs": [
        {
          "output_type": "execute_result",
          "data": {
            "text/plain": [
              "<matplotlib.collections.PathCollection at 0x7eff122ed950>"
            ]
          },
          "metadata": {},
          "execution_count": 134
        },
        {
          "output_type": "display_data",
          "data": {
            "text/plain": [
              "<Figure size 432x288 with 1 Axes>"
            ],
            "image/png": "[encoded data removed]"
          },
          "metadata": {
            "needs_background": "light"
          }
        }
      ]
    },
    {
      "cell_type": "markdown",
      "source": [
        "#Podemos ver que el precio de venta aumenta a mediada que aumenta la condicion general del inmueble"
      ],
      "metadata": {
        "id": "VCopFr163lbB"
      }
    },
    {
      "cell_type": "code",
      "source": [
        "plt.scatter(df['YearBuilt'],df['SalePrice'])"
      ],
      "metadata": {
        "colab": {
          "base_uri": "https://localhost:8080/",
          "height": 283
        },
        "id": "lko-cL9m1feW",
        "outputId": "9f8027a8-356f-4a8d-bdf2-d5a65d7a4069"
      },
      "execution_count": null,
      "outputs": [
        {
          "output_type": "execute_result",
          "data": {
            "text/plain": [
              "<matplotlib.collections.PathCollection at 0x7eff1225c890>"
            ]
          },
          "metadata": {},
          "execution_count": 135
        },
        {
          "output_type": "display_data",
          "data": {
            "text/plain": [
              "<Figure size 432x288 with 1 Axes>"
            ],
            "image/png": "[encoded data removed]"
          },
          "metadata": {
            "needs_background": "light"
          }
        }
      ]
    },
    {
      "cell_type": "markdown",
      "source": [
        "#Podemos ver que el precio de venta no aumenta sino que se mantiene en un precio no tan alto respecto al año de construccion"
      ],
      "metadata": {
        "id": "RtDvx9FI3wG9"
      }
    },
    {
      "cell_type": "code",
      "source": [
        "plt.scatter(df['YearRemodAdd'],df['SalePrice'])"
      ],
      "metadata": {
        "colab": {
          "base_uri": "https://localhost:8080/",
          "height": 283
        },
        "id": "rkYkavCM1k0P",
        "outputId": "149229f6-6560-4b79-f959-114df1221e51"
      },
      "execution_count": null,
      "outputs": [
        {
          "output_type": "execute_result",
          "data": {
            "text/plain": [
              "<matplotlib.collections.PathCollection at 0x7eff121cdf50>"
            ]
          },
          "metadata": {},
          "execution_count": 136
        },
        {
          "output_type": "display_data",
          "data": {
            "text/plain": [
              "<Figure size 432x288 with 1 Axes>"
            ],
            "image/png": "[encoded data removed]"
          },
          "metadata": {
            "needs_background": "light"
          }
        }
      ]
    },
    {
      "cell_type": "markdown",
      "source": [
        "#Podemos ver que el precio de venta no aumenta sino que se mantiene en un precio no tan alto respecto al año de remodelacion"
      ],
      "metadata": {
        "id": "aP-U952F4SGL"
      }
    },
    {
      "cell_type": "code",
      "source": [
        "plt.scatter(df['ExterQual'],df['SalePrice'])"
      ],
      "metadata": {
        "colab": {
          "base_uri": "https://localhost:8080/",
          "height": 283
        },
        "id": "HZkiTse61ra-",
        "outputId": "7767b88b-cb27-4ea7-d934-5ee066a3c182"
      },
      "execution_count": null,
      "outputs": [
        {
          "output_type": "execute_result",
          "data": {
            "text/plain": [
              "<matplotlib.collections.PathCollection at 0x7eff12142c90>"
            ]
          },
          "metadata": {},
          "execution_count": 137
        },
        {
          "output_type": "display_data",
          "data": {
            "text/plain": [
              "<Figure size 432x288 with 1 Axes>"
            ],
            "image/png": "[encoded data removed]"
          },
          "metadata": {
            "needs_background": "light"
          }
        }
      ]
    },
    {
      "cell_type": "markdown",
      "source": [
        "#Podemos ver que el precio de venta aumenta a mediada que aumenta la calidad de la fachada"
      ],
      "metadata": {
        "id": "1l4_fRmm4bWt"
      }
    },
    {
      "cell_type": "code",
      "source": [
        "plt.scatter(df['ExterCond'],df['SalePrice'])"
      ],
      "metadata": {
        "colab": {
          "base_uri": "https://localhost:8080/",
          "height": 283
        },
        "id": "i9VWWwp11yTP",
        "outputId": "aeca6b52-a091-4409-c865-aa1d545532d0"
      },
      "execution_count": null,
      "outputs": [
        {
          "output_type": "execute_result",
          "data": {
            "text/plain": [
              "<matplotlib.collections.PathCollection at 0x7eff120b79d0>"
            ]
          },
          "metadata": {},
          "execution_count": 138
        },
        {
          "output_type": "display_data",
          "data": {
            "text/plain": [
              "<Figure size 432x288 with 1 Axes>"
            ],
            "image/png": "[encoded data removed]"
          },
          "metadata": {
            "needs_background": "light"
          }
        }
      ]
    },
    {
      "cell_type": "markdown",
      "source": [
        "#Podemos ver que el precion de venta aumenta de gran medida entre 3 y 4 respecto a la condicion de la fachada"
      ],
      "metadata": {
        "id": "7AWDSGug4nNR"
      }
    },
    {
      "cell_type": "code",
      "source": [
        "plt.scatter(df['BedroomAbvGr'],df['SalePrice'])"
      ],
      "metadata": {
        "id": "aVp2EDss16gn",
        "colab": {
          "base_uri": "https://localhost:8080/",
          "height": 283
        },
        "outputId": "50816f43-54dd-4683-ee6f-f2012d7037d0"
      },
      "execution_count": null,
      "outputs": [
        {
          "output_type": "execute_result",
          "data": {
            "text/plain": [
              "<matplotlib.collections.PathCollection at 0x7eff120aa710>"
            ]
          },
          "metadata": {},
          "execution_count": 139
        },
        {
          "output_type": "display_data",
          "data": {
            "text/plain": [
              "<Figure size 432x288 with 1 Axes>"
            ],
            "image/png": "[encoded data removed]"
          },
          "metadata": {
            "needs_background": "light"
          }
        }
      ]
    },
    {
      "cell_type": "markdown",
      "source": [
        "#Podemos ver que el precio de venta aumenta solo hasta donde hay 4 habitaciones, en 5 y 6 habitaciones el precio de venta baja de manera drasticamente y en 7 y 8 es casi completamente nulo"
      ],
      "metadata": {
        "id": "xrVmnCJT4zrk"
      }
    },
    {
      "cell_type": "code",
      "source": [
        "plt.scatter(df['GarageCars'],df['SalePrice'])"
      ],
      "metadata": {
        "colab": {
          "base_uri": "https://localhost:8080/",
          "height": 283
        },
        "id": "r6mkEtbKj3H2",
        "outputId": "682f44a5-5577-4181-c190-bf8cc0f0ee06"
      },
      "execution_count": null,
      "outputs": [
        {
          "output_type": "execute_result",
          "data": {
            "text/plain": [
              "<matplotlib.collections.PathCollection at 0x7eff1202a090>"
            ]
          },
          "metadata": {},
          "execution_count": 140
        },
        {
          "output_type": "display_data",
          "data": {
            "text/plain": [
              "<Figure size 432x288 with 1 Axes>"
            ],
            "image/png": "[encoded data removed]"
          },
          "metadata": {
            "needs_background": "light"
          }
        }
      ]
    },
    {
      "cell_type": "markdown",
      "source": [
        "#Podemos ver que el precio de venta aumenta a medida que aumenta en numero de garage exactamente hasta 3 porque en 4 ya empieza a disminuir"
      ],
      "metadata": {
        "id": "AxKgXlVi5G29"
      }
    },
    {
      "cell_type": "code",
      "source": [
        "plt.scatter(df['PoolArea'],df['SalePrice'])"
      ],
      "metadata": {
        "colab": {
          "base_uri": "https://localhost:8080/",
          "height": 283
        },
        "id": "wIeqzyOBkBfK",
        "outputId": "59567783-ea84-41e5-e345-8e3b01c2d005"
      },
      "execution_count": null,
      "outputs": [
        {
          "output_type": "execute_result",
          "data": {
            "text/plain": [
              "<matplotlib.collections.PathCollection at 0x7eff11f0cfd0>"
            ]
          },
          "metadata": {},
          "execution_count": 141
        },
        {
          "output_type": "display_data",
          "data": {
            "text/plain": [
              "<Figure size 432x288 with 1 Axes>"
            ],
            "image/png": "[encoded data removed]"
          },
          "metadata": {
            "needs_background": "light"
          }
        }
      ]
    },
    {
      "cell_type": "markdown",
      "source": [
        "#Podemos ver que el precio de venta no aumenta porque no hay area de piscina"
      ],
      "metadata": {
        "id": "sDi6hC3S5lnF"
      }
    },
    {
      "cell_type": "code",
      "source": [
        "df.corr()"
      ],
      "metadata": {
        "colab": {
          "base_uri": "https://localhost:8080/",
          "height": 489
        },
        "id": "d1ItGSc0k56q",
        "outputId": "d59372fe-cb40-4c61-c4dc-9f1bd0cf8a0b"
      },
      "execution_count": null,
      "outputs": [
        {
          "output_type": "execute_result",
          "data": {
            "text/plain": [
              "               LotArea  OverallQual  OverallCond  YearBuilt  YearRemodAdd  \\\n",
              "LotArea       1.000000     0.105806    -0.005636  -0.014228     -0.013788   \n",
              "OverallQual   0.105806     1.000000    -0.091932  -0.572323     -0.550684   \n",
              "OverallCond  -0.005636    -0.091932     1.000000   0.375983     -0.073741   \n",
              "YearBuilt    -0.014228    -0.572323     0.375983   1.000000      0.592855   \n",
              "YearRemodAdd -0.013788    -0.550684    -0.073741   0.592855      1.000000   \n",
              "ExterQual     0.055570     0.726278    -0.138942  -0.598160     -0.587318   \n",
              "ExterCond     0.014732     0.013953     0.389163   0.103925     -0.074745   \n",
              "BedroomAbvGr  0.119690     0.101676     0.012980   0.070651      0.040581   \n",
              "GarageCars    0.154871     0.600671    -0.185758  -0.537850     -0.420622   \n",
              "PoolArea      0.077672     0.065166    -0.001985  -0.004950     -0.005829   \n",
              "SalePrice     0.263843     0.790982    -0.077856  -0.522897     -0.507101   \n",
              "Artery       -0.009526    -0.068812     0.080743   0.233179      0.164073   \n",
              "\n",
              "              ExterQual  ExterCond  BedroomAbvGr  GarageCars  PoolArea  \\\n",
              "LotArea        0.055570   0.014732      0.119690    0.154871  0.077672   \n",
              "OverallQual    0.726278   0.013953      0.101676    0.600671  0.065166   \n",
              "OverallCond   -0.138942   0.389163      0.012980   -0.185758 -0.001985   \n",
              "YearBuilt     -0.598160   0.103925      0.070651   -0.537850 -0.004950   \n",
              "YearRemodAdd  -0.587318  -0.074745      0.040581   -0.420622 -0.005829   \n",
              "ExterQual      1.000000   0.009184     -0.018729    0.526390  0.034766   \n",
              "ExterCond      0.009184   1.000000      0.015065   -0.009377  0.044387   \n",
              "BedroomAbvGr  -0.018729   0.015065      1.000000    0.086106  0.070703   \n",
              "GarageCars     0.526390  -0.009377      0.086106    1.000000  0.020934   \n",
              "PoolArea       0.034766   0.044387      0.070703    0.020934  1.000000   \n",
              "SalePrice      0.682639   0.018899      0.168213    0.640409  0.092404   \n",
              "Artery        -0.100382   0.076499      0.049038   -0.071068  0.036302   \n",
              "\n",
              "              SalePrice    Artery  \n",
              "LotArea        0.263843 -0.009526  \n",
              "OverallQual    0.790982 -0.068812  \n",
              "OverallCond   -0.077856  0.080743  \n",
              "YearBuilt     -0.522897  0.233179  \n",
              "YearRemodAdd  -0.507101  0.164073  \n",
              "ExterQual      0.682639 -0.100382  \n",
              "ExterCond      0.018899  0.076499  \n",
              "BedroomAbvGr   0.168213  0.049038  \n",
              "GarageCars     0.640409 -0.071068  \n",
              "PoolArea       0.092404  0.036302  \n",
              "SalePrice      1.000000 -0.106401  \n",
              "Artery        -0.106401  1.000000  "
            ],
            "text/html": [
              "\n",
              "  <div id=\"df-5d2969f2-822c-4e44-a7cc-a8627a29b2e3\">\n",
              "    <div class=\"colab-df-container\">\n",
              "      <div>\n",
              "<style scoped>\n",
              "    .dataframe tbody tr th:only-of-type {\n",
              "        vertical-align: middle;\n",
              "    }\n",
              "\n",
              "    .dataframe tbody tr th {\n",
              "        vertical-align: top;\n",
              "    }\n",
              "\n",
              "    .dataframe thead th {\n",
              "        text-align: right;\n",
              "    }\n",
              "</style>\n",
              "<table border=\"1\" class=\"dataframe\">\n",
              "  <thead>\n",
              "    <tr style=\"text-align: right;\">\n",
              "      <th></th>\n",
              "      <th>LotArea</th>\n",
              "      <th>OverallQual</th>\n",
              "      <th>OverallCond</th>\n",
              "      <th>YearBuilt</th>\n",
              "      <th>YearRemodAdd</th>\n",
              "      <th>ExterQual</th>\n",
              "      <th>ExterCond</th>\n",
              "      <th>BedroomAbvGr</th>\n",
              "      <th>GarageCars</th>\n",
              "      <th>PoolArea</th>\n",
              "      <th>SalePrice</th>\n",
              "      <th>Artery</th>\n",
              "    </tr>\n",
              "  </thead>\n",
              "  <tbody>\n",
              "    <tr>\n",
              "      <th>LotArea</th>\n",
              "      <td>1.000000</td>\n",
              "      <td>0.105806</td>\n",
              "      <td>-0.005636</td>\n",
              "      <td>-0.014228</td>\n",
              "      <td>-0.013788</td>\n",
              "      <td>0.055570</td>\n",
              "      <td>0.014732</td>\n",
              "      <td>0.119690</td>\n",
              "      <td>0.154871</td>\n",
              "      <td>0.077672</td>\n",
              "      <td>0.263843</td>\n",
              "      <td>-0.009526</td>\n",
              "    </tr>\n",
              "    <tr>\n",
              "      <th>OverallQual</th>\n",
              "      <td>0.105806</td>\n",
              "      <td>1.000000</td>\n",
              "      <td>-0.091932</td>\n",
              "      <td>-0.572323</td>\n",
              "      <td>-0.550684</td>\n",
              "      <td>0.726278</td>\n",
              "      <td>0.013953</td>\n",
              "      <td>0.101676</td>\n",
              "      <td>0.600671</td>\n",
              "      <td>0.065166</td>\n",
              "      <td>0.790982</td>\n",
              "      <td>-0.068812</td>\n",
              "    </tr>\n",
              "    <tr>\n",
              "      <th>OverallCond</th>\n",
              "      <td>-0.005636</td>\n",
              "      <td>-0.091932</td>\n",
              "      <td>1.000000</td>\n",
              "      <td>0.375983</td>\n",
              "      <td>-0.073741</td>\n",
              "      <td>-0.138942</td>\n",
              "      <td>0.389163</td>\n",
              "      <td>0.012980</td>\n",
              "      <td>-0.185758</td>\n",
              "      <td>-0.001985</td>\n",
              "      <td>-0.077856</td>\n",
              "      <td>0.080743</td>\n",
              "    </tr>\n",
              "    <tr>\n",
              "      <th>YearBuilt</th>\n",
              "      <td>-0.014228</td>\n",
              "      <td>-0.572323</td>\n",
              "      <td>0.375983</td>\n",
              "      <td>1.000000</td>\n",
              "      <td>0.592855</td>\n",
              "      <td>-0.598160</td>\n",
              "      <td>0.103925</td>\n",
              "      <td>0.070651</td>\n",
              "      <td>-0.537850</td>\n",
              "      <td>-0.004950</td>\n",
              "      <td>-0.522897</td>\n",
              "      <td>0.233179</td>\n",
              "    </tr>\n",
              "    <tr>\n",
              "      <th>YearRemodAdd</th>\n",
              "      <td>-0.013788</td>\n",
              "      <td>-0.550684</td>\n",
              "      <td>-0.073741</td>\n",
              "      <td>0.592855</td>\n",
              "      <td>1.000000</td>\n",
              "      <td>-0.587318</td>\n",
              "      <td>-0.074745</td>\n",
              "      <td>0.040581</td>\n",
              "      <td>-0.420622</td>\n",
              "      <td>-0.005829</td>\n",
              "      <td>-0.507101</td>\n",
              "      <td>0.164073</td>\n",
              "    </tr>\n",
              "    <tr>\n",
              "      <th>ExterQual</th>\n",
              "      <td>0.055570</td>\n",
              "      <td>0.726278</td>\n",
              "      <td>-0.138942</td>\n",
              "      <td>-0.598160</td>\n",
              "      <td>-0.587318</td>\n",
              "      <td>1.000000</td>\n",
              "      <td>0.009184</td>\n",
              "      <td>-0.018729</td>\n",
              "      <td>0.526390</td>\n",
              "      <td>0.034766</td>\n",
              "      <td>0.682639</td>\n",
              "      <td>-0.100382</td>\n",
              "    </tr>\n",
              "    <tr>\n",
              "      <th>ExterCond</th>\n",
              "      <td>0.014732</td>\n",
              "      <td>0.013953</td>\n",
              "      <td>0.389163</td>\n",
              "      <td>0.103925</td>\n",
              "      <td>-0.074745</td>\n",
              "      <td>0.009184</td>\n",
              "      <td>1.000000</td>\n",
              "      <td>0.015065</td>\n",
              "      <td>-0.009377</td>\n",
              "      <td>0.044387</td>\n",
              "      <td>0.018899</td>\n",
              "      <td>0.076499</td>\n",
              "    </tr>\n",
              "    <tr>\n",
              "      <th>BedroomAbvGr</th>\n",
              "      <td>0.119690</td>\n",
              "      <td>0.101676</td>\n",
              "      <td>0.012980</td>\n",
              "      <td>0.070651</td>\n",
              "      <td>0.040581</td>\n",
              "      <td>-0.018729</td>\n",
              "      <td>0.015065</td>\n",
              "      <td>1.000000</td>\n",
              "      <td>0.086106</td>\n",
              "      <td>0.070703</td>\n",
              "      <td>0.168213</td>\n",
              "      <td>0.049038</td>\n",
              "    </tr>\n",
              "    <tr>\n",
              "      <th>GarageCars</th>\n",
              "      <td>0.154871</td>\n",
              "      <td>0.600671</td>\n",
              "      <td>-0.185758</td>\n",
              "      <td>-0.537850</td>\n",
              "      <td>-0.420622</td>\n",
              "      <td>0.526390</td>\n",
              "      <td>-0.009377</td>\n",
              "      <td>0.086106</td>\n",
              "      <td>1.000000</td>\n",
              "      <td>0.020934</td>\n",
              "      <td>0.640409</td>\n",
              "      <td>-0.071068</td>\n",
              "    </tr>\n",
              "    <tr>\n",
              "      <th>PoolArea</th>\n",
              "      <td>0.077672</td>\n",
              "      <td>0.065166</td>\n",
              "      <td>-0.001985</td>\n",
              "      <td>-0.004950</td>\n",
              "      <td>-0.005829</td>\n",
              "      <td>0.034766</td>\n",
              "      <td>0.044387</td>\n",
              "      <td>0.070703</td>\n",
              "      <td>0.020934</td>\n",
              "      <td>1.000000</td>\n",
              "      <td>0.092404</td>\n",
              "      <td>0.036302</td>\n",
              "    </tr>\n",
              "    <tr>\n",
              "      <th>SalePrice</th>\n",
              "      <td>0.263843</td>\n",
              "      <td>0.790982</td>\n",
              "      <td>-0.077856</td>\n",
              "      <td>-0.522897</td>\n",
              "      <td>-0.507101</td>\n",
              "      <td>0.682639</td>\n",
              "      <td>0.018899</td>\n",
              "      <td>0.168213</td>\n",
              "      <td>0.640409</td>\n",
              "      <td>0.092404</td>\n",
              "      <td>1.000000</td>\n",
              "      <td>-0.106401</td>\n",
              "    </tr>\n",
              "    <tr>\n",
              "      <th>Artery</th>\n",
              "      <td>-0.009526</td>\n",
              "      <td>-0.068812</td>\n",
              "      <td>0.080743</td>\n",
              "      <td>0.233179</td>\n",
              "      <td>0.164073</td>\n",
              "      <td>-0.100382</td>\n",
              "      <td>0.076499</td>\n",
              "      <td>0.049038</td>\n",
              "      <td>-0.071068</td>\n",
              "      <td>0.036302</td>\n",
              "      <td>-0.106401</td>\n",
              "      <td>1.000000</td>\n",
              "    </tr>\n",
              "  </tbody>\n",
              "</table>\n",
              "</div>\n",
              "      <button class=\"colab-df-convert\" onclick=\"convertToInteractive('df-5d2969f2-822c-4e44-a7cc-a8627a29b2e3')\"\n",
              "              title=\"Convert this dataframe to an interactive table.\"\n",
              "              style=\"display:none;\">\n",
              "        \n",
              "  <svg xmlns=\"http://www.w3.org/2000/svg\" height=\"24px\"viewBox=\"0 0 24 24\"\n",
              "       width=\"24px\">\n",
              "    <path d=\"M0 0h24v24H0V0z\" fill=\"none\"/>\n",
              "    <path d=\"M18.56 5.44l.94 2.06.94-2.06 2.06-.94-2.06-.94-.94-2.06-.94 2.06-2.06.94zm-11 1L8.5 8.5l.94-2.06 2.06-.94-2.06-.94L8.5 2.5l-.94 2.06-2.06.94zm10 10l.94 2.06.94-2.06 2.06-.94-2.06-.94-.94-2.06-.94 2.06-2.06.94z\"/><path d=\"M17.41 7.96l-1.37-1.37c-.4-.4-.92-.59-1.43-.59-.52 0-1.04.2-1.43.59L10.3 9.45l-7.72 7.72c-.78.78-.78 2.05 0 2.83L4 21.41c.39.39.9.59 1.41.59.51 0 1.02-.2 1.41-.59l7.78-7.78 2.81-2.81c.8-.78.8-2.07 0-2.86zM5.41 20L4 18.59l7.72-7.72 1.47 1.35L5.41 20z\"/>\n",
              "  </svg>\n",
              "      </button>\n",
              "      \n",
              "  <style>\n",
              "    .colab-df-container {\n",
              "      display:flex;\n",
              "      flex-wrap:wrap;\n",
              "      gap: 12px;\n",
              "    }\n",
              "\n",
              "    .colab-df-convert {\n",
              "      background-color: #E8F0FE;\n",
              "      border: none;\n",
              "      border-radius: 50%;\n",
              "      cursor: pointer;\n",
              "      display: none;\n",
              "      fill: #1967D2;\n",
              "      height: 32px;\n",
              "      padding: 0 0 0 0;\n",
              "      width: 32px;\n",
              "    }\n",
              "\n",
              "    .colab-df-convert:hover {\n",
              "      background-color: #E2EBFA;\n",
              "      box-shadow: 0px 1px 2px rgba(60, 64, 67, 0.3), 0px 1px 3px 1px rgba(60, 64, 67, 0.15);\n",
              "      fill: #174EA6;\n",
              "    }\n",
              "\n",
              "    [theme=dark] .colab-df-convert {\n",
              "      background-color: #3B4455;\n",
              "      fill: #D2E3FC;\n",
              "    }\n",
              "\n",
              "    [theme=dark] .colab-df-convert:hover {\n",
              "      background-color: #434B5C;\n",
              "      box-shadow: 0px 1px 3px 1px rgba(0, 0, 0, 0.15);\n",
              "      filter: drop-shadow(0px 1px 2px rgba(0, 0, 0, 0.3));\n",
              "      fill: #FFFFFF;\n",
              "    }\n",
              "  </style>\n",
              "\n",
              "      <script>\n",
              "        const buttonEl =\n",
              "          document.querySelector('#df-5d2969f2-822c-4e44-a7cc-a8627a29b2e3 button.colab-df-convert');\n",
              "        buttonEl.style.display =\n",
              "          google.colab.kernel.accessAllowed ? 'block' : 'none';\n",
              "\n",
              "        async function convertToInteractive(key) {\n",
              "          const element = document.querySelector('#df-5d2969f2-822c-4e44-a7cc-a8627a29b2e3');\n",
              "          const dataTable =\n",
              "            await google.colab.kernel.invokeFunction('convertToInteractive',\n",
              "                                                     [key], {});\n",
              "          if (!dataTable) return;\n",
              "\n",
              "          const docLinkHtml = 'Like what you see? Visit the ' +\n",
              "            '<a target=\"_blank\" href=https://colab.research.google.com/notebooks/data_table.ipynb>data table notebook</a>'\n",
              "            + ' to learn more about interactive tables.';\n",
              "          element.innerHTML = '';\n",
              "          dataTable['output_type'] = 'display_data';\n",
              "          await google.colab.output.renderOutput(dataTable, element);\n",
              "          const docLink = document.createElement('div');\n",
              "          docLink.innerHTML = docLinkHtml;\n",
              "          element.appendChild(docLink);\n",
              "        }\n",
              "      </script>\n",
              "    </div>\n",
              "  </div>\n",
              "  "
            ]
          },
          "metadata": {},
          "execution_count": 143
        }
      ]
    },
    {
      "cell_type": "markdown",
      "source": [
        "#Podemos ver que la calidad general del inmueble tiene una correlacion casi perfecta positiva respecto al precio de venta\n",
        "#Tambien podemos ver que el año de construccion tiene la correlacion mas negativa con respecto al precio de venta en comparacion con las demas variables"
      ],
      "metadata": {
        "id": "eSBLNDVL6NKk"
      }
    },
    {
      "cell_type": "code",
      "source": [
        "df.corr(method='spearman')"
      ],
      "metadata": {
        "colab": {
          "base_uri": "https://localhost:8080/",
          "height": 489
        },
        "id": "4y_ggZEQmry1",
        "outputId": "350c1fa9-8803-42ad-8a7f-7432b6e2b597"
      },
      "execution_count": null,
      "outputs": [
        {
          "output_type": "execute_result",
          "data": {
            "text/plain": [
              "               LotArea  OverallQual  OverallCond  YearBuilt  YearRemodAdd  \\\n",
              "LotArea       1.000000     0.233303    -0.046912  -0.103385     -0.075158   \n",
              "OverallQual   0.233303     1.000000    -0.177521  -0.647392     -0.557723   \n",
              "OverallCond  -0.046912    -0.177521     1.000000   0.416964      0.041464   \n",
              "YearBuilt    -0.103385    -0.647392     0.416964   1.000000      0.684388   \n",
              "YearRemodAdd -0.075158    -0.557723     0.041464   0.684388      1.000000   \n",
              "ExterQual     0.148995     0.715988    -0.228402  -0.678997     -0.631327   \n",
              "ExterCond     0.032046    -0.015870     0.329091   0.116672     -0.043496   \n",
              "BedroomAbvGr  0.337788     0.121517    -0.003713   0.035257      0.054371   \n",
              "GarageCars    0.340195     0.608756    -0.254763  -0.601519     -0.456245   \n",
              "PoolArea      0.084460     0.056667    -0.005605  -0.008986     -0.002821   \n",
              "SalePrice     0.456461     0.809829    -0.129325  -0.652682     -0.571159   \n",
              "Artery       -0.024566    -0.081717     0.079480   0.219426      0.154949   \n",
              "\n",
              "              ExterQual  ExterCond  BedroomAbvGr  GarageCars  PoolArea  \\\n",
              "LotArea        0.148995   0.032046      0.337788    0.340195  0.084460   \n",
              "OverallQual    0.715988  -0.015870      0.121517    0.608756  0.056667   \n",
              "OverallCond   -0.228402   0.329091     -0.003713   -0.254763 -0.005605   \n",
              "YearBuilt     -0.678997   0.116672      0.035257   -0.601519 -0.008986   \n",
              "YearRemodAdd  -0.631327  -0.043496      0.054371   -0.456245 -0.002821   \n",
              "ExterQual      1.000000  -0.007822      0.010209    0.542498  0.033574   \n",
              "ExterCond     -0.007822   1.000000      0.024243   -0.036854  0.041834   \n",
              "BedroomAbvGr   0.010209   0.024243      1.000000    0.118497  0.071734   \n",
              "GarageCars     0.542498  -0.036854      0.118497    1.000000  0.021783   \n",
              "PoolArea       0.033574   0.041834      0.071734    0.021783  1.000000   \n",
              "SalePrice      0.684014   0.011682      0.234907    0.690711  0.058453   \n",
              "Artery        -0.107414   0.071515      0.030117   -0.081109  0.042658   \n",
              "\n",
              "              SalePrice    Artery  \n",
              "LotArea        0.456461 -0.024566  \n",
              "OverallQual    0.809829 -0.081717  \n",
              "OverallCond   -0.129325  0.079480  \n",
              "YearBuilt     -0.652682  0.219426  \n",
              "YearRemodAdd  -0.571159  0.154949  \n",
              "ExterQual      0.684014 -0.107414  \n",
              "ExterCond      0.011682  0.071515  \n",
              "BedroomAbvGr   0.234907  0.030117  \n",
              "GarageCars     0.690711 -0.081109  \n",
              "PoolArea       0.058453  0.042658  \n",
              "SalePrice      1.000000 -0.151573  \n",
              "Artery        -0.151573  1.000000  "
            ],
            "text/html": [
              "\n",
              "  <div id=\"df-bf86bb1d-eb79-4c0f-be2d-305ff942140d\">\n",
              "    <div class=\"colab-df-container\">\n",
              "      <div>\n",
              "<style scoped>\n",
              "    .dataframe tbody tr th:only-of-type {\n",
              "        vertical-align: middle;\n",
              "    }\n",
              "\n",
              "    .dataframe tbody tr th {\n",
              "        vertical-align: top;\n",
              "    }\n",
              "\n",
              "    .dataframe thead th {\n",
              "        text-align: right;\n",
              "    }\n",
              "</style>\n",
              "<table border=\"1\" class=\"dataframe\">\n",
              "  <thead>\n",
              "    <tr style=\"text-align: right;\">\n",
              "      <th></th>\n",
              "      <th>LotArea</th>\n",
              "      <th>OverallQual</th>\n",
              "      <th>OverallCond</th>\n",
              "      <th>YearBuilt</th>\n",
              "      <th>YearRemodAdd</th>\n",
              "      <th>ExterQual</th>\n",
              "      <th>ExterCond</th>\n",
              "      <th>BedroomAbvGr</th>\n",
              "      <th>GarageCars</th>\n",
              "      <th>PoolArea</th>\n",
              "      <th>SalePrice</th>\n",
              "      <th>Artery</th>\n",
              "    </tr>\n",
              "  </thead>\n",
              "  <tbody>\n",
              "    <tr>\n",
              "      <th>LotArea</th>\n",
              "      <td>1.000000</td>\n",
              "      <td>0.233303</td>\n",
              "      <td>-0.046912</td>\n",
              "      <td>-0.103385</td>\n",
              "      <td>-0.075158</td>\n",
              "      <td>0.148995</td>\n",
              "      <td>0.032046</td>\n",
              "      <td>0.337788</td>\n",
              "      <td>0.340195</td>\n",
              "      <td>0.084460</td>\n",
              "      <td>0.456461</td>\n",
              "      <td>-0.024566</td>\n",
              "    </tr>\n",
              "    <tr>\n",
              "      <th>OverallQual</th>\n",
              "      <td>0.233303</td>\n",
              "      <td>1.000000</td>\n",
              "      <td>-0.177521</td>\n",
              "      <td>-0.647392</td>\n",
              "      <td>-0.557723</td>\n",
              "      <td>0.715988</td>\n",
              "      <td>-0.015870</td>\n",
              "      <td>0.121517</td>\n",
              "      <td>0.608756</td>\n",
              "      <td>0.056667</td>\n",
              "      <td>0.809829</td>\n",
              "      <td>-0.081717</td>\n",
              "    </tr>\n",
              "    <tr>\n",
              "      <th>OverallCond</th>\n",
              "      <td>-0.046912</td>\n",
              "      <td>-0.177521</td>\n",
              "      <td>1.000000</td>\n",
              "      <td>0.416964</td>\n",
              "      <td>0.041464</td>\n",
              "      <td>-0.228402</td>\n",
              "      <td>0.329091</td>\n",
              "      <td>-0.003713</td>\n",
              "      <td>-0.254763</td>\n",
              "      <td>-0.005605</td>\n",
              "      <td>-0.129325</td>\n",
              "      <td>0.079480</td>\n",
              "    </tr>\n",
              "    <tr>\n",
              "      <th>YearBuilt</th>\n",
              "      <td>-0.103385</td>\n",
              "      <td>-0.647392</td>\n",
              "      <td>0.416964</td>\n",
              "      <td>1.000000</td>\n",
              "      <td>0.684388</td>\n",
              "      <td>-0.678997</td>\n",
              "      <td>0.116672</td>\n",
              "      <td>0.035257</td>\n",
              "      <td>-0.601519</td>\n",
              "      <td>-0.008986</td>\n",
              "      <td>-0.652682</td>\n",
              "      <td>0.219426</td>\n",
              "    </tr>\n",
              "    <tr>\n",
              "      <th>YearRemodAdd</th>\n",
              "      <td>-0.075158</td>\n",
              "      <td>-0.557723</td>\n",
              "      <td>0.041464</td>\n",
              "      <td>0.684388</td>\n",
              "      <td>1.000000</td>\n",
              "      <td>-0.631327</td>\n",
              "      <td>-0.043496</td>\n",
              "      <td>0.054371</td>\n",
              "      <td>-0.456245</td>\n",
              "      <td>-0.002821</td>\n",
              "      <td>-0.571159</td>\n",
              "      <td>0.154949</td>\n",
              "    </tr>\n",
              "    <tr>\n",
              "      <th>ExterQual</th>\n",
              "      <td>0.148995</td>\n",
              "      <td>0.715988</td>\n",
              "      <td>-0.228402</td>\n",
              "      <td>-0.678997</td>\n",
              "      <td>-0.631327</td>\n",
              "      <td>1.000000</td>\n",
              "      <td>-0.007822</td>\n",
              "      <td>0.010209</td>\n",
              "      <td>0.542498</td>\n",
              "      <td>0.033574</td>\n",
              "      <td>0.684014</td>\n",
              "      <td>-0.107414</td>\n",
              "    </tr>\n",
              "    <tr>\n",
              "      <th>ExterCond</th>\n",
              "      <td>0.032046</td>\n",
              "      <td>-0.015870</td>\n",
              "      <td>0.329091</td>\n",
              "      <td>0.116672</td>\n",
              "      <td>-0.043496</td>\n",
              "      <td>-0.007822</td>\n",
              "      <td>1.000000</td>\n",
              "      <td>0.024243</td>\n",
              "      <td>-0.036854</td>\n",
              "      <td>0.041834</td>\n",
              "      <td>0.011682</td>\n",
              "      <td>0.071515</td>\n",
              "    </tr>\n",
              "    <tr>\n",
              "      <th>BedroomAbvGr</th>\n",
              "      <td>0.337788</td>\n",
              "      <td>0.121517</td>\n",
              "      <td>-0.003713</td>\n",
              "      <td>0.035257</td>\n",
              "      <td>0.054371</td>\n",
              "      <td>0.010209</td>\n",
              "      <td>0.024243</td>\n",
              "      <td>1.000000</td>\n",
              "      <td>0.118497</td>\n",
              "      <td>0.071734</td>\n",
              "      <td>0.234907</td>\n",
              "      <td>0.030117</td>\n",
              "    </tr>\n",
              "    <tr>\n",
              "      <th>GarageCars</th>\n",
              "      <td>0.340195</td>\n",
              "      <td>0.608756</td>\n",
              "      <td>-0.254763</td>\n",
              "      <td>-0.601519</td>\n",
              "      <td>-0.456245</td>\n",
              "      <td>0.542498</td>\n",
              "      <td>-0.036854</td>\n",
              "      <td>0.118497</td>\n",
              "      <td>1.000000</td>\n",
              "      <td>0.021783</td>\n",
              "      <td>0.690711</td>\n",
              "      <td>-0.081109</td>\n",
              "    </tr>\n",
              "    <tr>\n",
              "      <th>PoolArea</th>\n",
              "      <td>0.084460</td>\n",
              "      <td>0.056667</td>\n",
              "      <td>-0.005605</td>\n",
              "      <td>-0.008986</td>\n",
              "      <td>-0.002821</td>\n",
              "      <td>0.033574</td>\n",
              "      <td>0.041834</td>\n",
              "      <td>0.071734</td>\n",
              "      <td>0.021783</td>\n",
              "      <td>1.000000</td>\n",
              "      <td>0.058453</td>\n",
              "      <td>0.042658</td>\n",
              "    </tr>\n",
              "    <tr>\n",
              "      <th>SalePrice</th>\n",
              "      <td>0.456461</td>\n",
              "      <td>0.809829</td>\n",
              "      <td>-0.129325</td>\n",
              "      <td>-0.652682</td>\n",
              "      <td>-0.571159</td>\n",
              "      <td>0.684014</td>\n",
              "      <td>0.011682</td>\n",
              "      <td>0.234907</td>\n",
              "      <td>0.690711</td>\n",
              "      <td>0.058453</td>\n",
              "      <td>1.000000</td>\n",
              "      <td>-0.151573</td>\n",
              "    </tr>\n",
              "    <tr>\n",
              "      <th>Artery</th>\n",
              "      <td>-0.024566</td>\n",
              "      <td>-0.081717</td>\n",
              "      <td>0.079480</td>\n",
              "      <td>0.219426</td>\n",
              "      <td>0.154949</td>\n",
              "      <td>-0.107414</td>\n",
              "      <td>0.071515</td>\n",
              "      <td>0.030117</td>\n",
              "      <td>-0.081109</td>\n",
              "      <td>0.042658</td>\n",
              "      <td>-0.151573</td>\n",
              "      <td>1.000000</td>\n",
              "    </tr>\n",
              "  </tbody>\n",
              "</table>\n",
              "</div>\n",
              "      <button class=\"colab-df-convert\" onclick=\"convertToInteractive('df-bf86bb1d-eb79-4c0f-be2d-305ff942140d')\"\n",
              "              title=\"Convert this dataframe to an interactive table.\"\n",
              "              style=\"display:none;\">\n",
              "        \n",
              "  <svg xmlns=\"http://www.w3.org/2000/svg\" height=\"24px\"viewBox=\"0 0 24 24\"\n",
              "       width=\"24px\">\n",
              "    <path d=\"M0 0h24v24H0V0z\" fill=\"none\"/>\n",
              "    <path d=\"M18.56 5.44l.94 2.06.94-2.06 2.06-.94-2.06-.94-.94-2.06-.94 2.06-2.06.94zm-11 1L8.5 8.5l.94-2.06 2.06-.94-2.06-.94L8.5 2.5l-.94 2.06-2.06.94zm10 10l.94 2.06.94-2.06 2.06-.94-2.06-.94-.94-2.06-.94 2.06-2.06.94z\"/><path d=\"M17.41 7.96l-1.37-1.37c-.4-.4-.92-.59-1.43-.59-.52 0-1.04.2-1.43.59L10.3 9.45l-7.72 7.72c-.78.78-.78 2.05 0 2.83L4 21.41c.39.39.9.59 1.41.59.51 0 1.02-.2 1.41-.59l7.78-7.78 2.81-2.81c.8-.78.8-2.07 0-2.86zM5.41 20L4 18.59l7.72-7.72 1.47 1.35L5.41 20z\"/>\n",
              "  </svg>\n",
              "      </button>\n",
              "      \n",
              "  <style>\n",
              "    .colab-df-container {\n",
              "      display:flex;\n",
              "      flex-wrap:wrap;\n",
              "      gap: 12px;\n",
              "    }\n",
              "\n",
              "    .colab-df-convert {\n",
              "      background-color: #E8F0FE;\n",
              "      border: none;\n",
              "      border-radius: 50%;\n",
              "      cursor: pointer;\n",
              "      display: none;\n",
              "      fill: #1967D2;\n",
              "      height: 32px;\n",
              "      padding: 0 0 0 0;\n",
              "      width: 32px;\n",
              "    }\n",
              "\n",
              "    .colab-df-convert:hover {\n",
              "      background-color: #E2EBFA;\n",
              "      box-shadow: 0px 1px 2px rgba(60, 64, 67, 0.3), 0px 1px 3px 1px rgba(60, 64, 67, 0.15);\n",
              "      fill: #174EA6;\n",
              "    }\n",
              "\n",
              "    [theme=dark] .colab-df-convert {\n",
              "      background-color: #3B4455;\n",
              "      fill: #D2E3FC;\n",
              "    }\n",
              "\n",
              "    [theme=dark] .colab-df-convert:hover {\n",
              "      background-color: #434B5C;\n",
              "      box-shadow: 0px 1px 3px 1px rgba(0, 0, 0, 0.15);\n",
              "      filter: drop-shadow(0px 1px 2px rgba(0, 0, 0, 0.3));\n",
              "      fill: #FFFFFF;\n",
              "    }\n",
              "  </style>\n",
              "\n",
              "      <script>\n",
              "        const buttonEl =\n",
              "          document.querySelector('#df-bf86bb1d-eb79-4c0f-be2d-305ff942140d button.colab-df-convert');\n",
              "        buttonEl.style.display =\n",
              "          google.colab.kernel.accessAllowed ? 'block' : 'none';\n",
              "\n",
              "        async function convertToInteractive(key) {\n",
              "          const element = document.querySelector('#df-bf86bb1d-eb79-4c0f-be2d-305ff942140d');\n",
              "          const dataTable =\n",
              "            await google.colab.kernel.invokeFunction('convertToInteractive',\n",
              "                                                     [key], {});\n",
              "          if (!dataTable) return;\n",
              "\n",
              "          const docLinkHtml = 'Like what you see? Visit the ' +\n",
              "            '<a target=\"_blank\" href=https://colab.research.google.com/notebooks/data_table.ipynb>data table notebook</a>'\n",
              "            + ' to learn more about interactive tables.';\n",
              "          element.innerHTML = '';\n",
              "          dataTable['output_type'] = 'display_data';\n",
              "          await google.colab.output.renderOutput(dataTable, element);\n",
              "          const docLink = document.createElement('div');\n",
              "          docLink.innerHTML = docLinkHtml;\n",
              "          element.appendChild(docLink);\n",
              "        }\n",
              "      </script>\n",
              "    </div>\n",
              "  </div>\n",
              "  "
            ]
          },
          "metadata": {},
          "execution_count": 144
        }
      ]
    },
    {
      "cell_type": "markdown",
      "source": [
        "#Podemos ver que la calidad general del inmueble tiene una correlacion casi perfecta positiva respecto al precio de venta\n",
        "#Tambien podemos ver que el año de remodelacion tiene la correlacion mas negativa con respecto al precio de venta en comparacion con las demas variables"
      ],
      "metadata": {
        "id": "SFhcR7jG7A9s"
      }
    },
    {
      "cell_type": "code",
      "source": [
        "y = df[\"SalePrice\"]\n",
        "x = df[[\"LotArea\",\"OverallQual\",'OverallCond',\"ExterQual\",\"BedroomAbvGr\",\"GarageCars\",\"PoolArea\",\"Artery\"]]\n",
        "x = sm.add_constant(x)\n",
        "model = sm.OLS(y,x)\n",
        "reg = model.fit()\n",
        "reg.summary()"
      ],
      "metadata": {
        "colab": {
          "base_uri": "https://localhost:8080/",
          "height": 669
        },
        "id": "yf2Ow7LVmwCW",
        "outputId": "f8bc223f-108e-4fcb-d3d9-efee13261e1e"
      },
      "execution_count": null,
      "outputs": [
        {
          "output_type": "stream",
          "name": "stderr",
          "text": [
            "/usr/local/lib/python3.7/dist-packages/statsmodels/tsa/tsatools.py:142: FutureWarning: In a future version of pandas all arguments of concat except for the argument 'objs' will be keyword-only\n",
            "  x = pd.concat(x[::order], 1)\n"
          ]
        },
        {
          "output_type": "execute_result",
          "data": {
            "text/plain": [
              "<class 'statsmodels.iolib.summary.Summary'>\n",
              "\"\"\"\n",
              "                            OLS Regression Results                            \n",
              "==============================================================================\n",
              "Dep. Variable:              SalePrice   R-squared:                       0.722\n",
              "Model:                            OLS   Adj. R-squared:                  0.721\n",
              "Method:                 Least Squares   F-statistic:                     472.2\n",
              "Date:                Sat, 22 Oct 2022   Prob (F-statistic):               0.00\n",
              "Time:                        03:06:12   Log-Likelihood:                -17608.\n",
              "No. Observations:                1460   AIC:                         3.523e+04\n",
              "Df Residuals:                    1451   BIC:                         3.528e+04\n",
              "Df Model:                           8                                         \n",
              "Covariance Type:            nonrobust                                         \n",
              "================================================================================\n",
              "                   coef    std err          t      P>|t|      [0.025      0.975]\n",
              "--------------------------------------------------------------------------------\n",
              "const        -1.803e+05   1.01e+04    -17.891      0.000      -2e+05    -1.6e+05\n",
              "LotArea          1.2369      0.112     11.001      0.000       1.016       1.457\n",
              "OverallQual   2.771e+04   1262.497     21.945      0.000    2.52e+04    3.02e+04\n",
              "OverallCond   2756.8913   1010.801      2.727      0.006     774.104    4739.679\n",
              "ExterQual     2.972e+04   2865.328     10.374      0.000    2.41e+04    3.53e+04\n",
              "BedroomAbvGr  8364.6585   1379.352      6.064      0.000    5658.922    1.11e+04\n",
              "GarageCars    2.227e+04   1902.842     11.704      0.000    1.85e+04     2.6e+04\n",
              "PoolArea        64.5376     27.553      2.342      0.019      10.490     118.585\n",
              "Artery        -1.95e+04   6217.290     -3.137      0.002   -3.17e+04   -7305.881\n",
              "==============================================================================\n",
              "Omnibus:                      673.104   Durbin-Watson:                   1.991\n",
              "Prob(Omnibus):                  0.000   Jarque-Bera (JB):            11761.909\n",
              "Skew:                           1.702   Prob(JB):                         0.00\n",
              "Kurtosis:                      16.482   Cond. No.                     1.35e+05\n",
              "==============================================================================\n",
              "\n",
              "Notes:\n",
              "[1] Standard Errors assume that the covariance matrix of the errors is correctly specified.\n",
              "[2] The condition number is large, 1.35e+05. This might indicate that there are\n",
              "strong multicollinearity or other numerical problems.\n",
              "\"\"\""
            ],
            "text/html": [
              "<table class=\"simpletable\">\n",
              "<caption>OLS Regression Results</caption>\n",
              "<tr>\n",
              "  <th>Dep. Variable:</th>        <td>SalePrice</td>    <th>  R-squared:         </th> <td>   0.722</td> \n",
              "</tr>\n",
              "<tr>\n",
              "  <th>Model:</th>                   <td>OLS</td>       <th>  Adj. R-squared:    </th> <td>   0.721</td> \n",
              "</tr>\n",
              "<tr>\n",
              "  <th>Method:</th>             <td>Least Squares</td>  <th>  F-statistic:       </th> <td>   472.2</td> \n",
              "</tr>\n",
              "<tr>\n",
              "  <th>Date:</th>             <td>Sat, 22 Oct 2022</td> <th>  Prob (F-statistic):</th>  <td>  0.00</td>  \n",
              "</tr>\n",
              "<tr>\n",
              "  <th>Time:</th>                 <td>03:06:12</td>     <th>  Log-Likelihood:    </th> <td> -17608.</td> \n",
              "</tr>\n",
              "<tr>\n",
              "  <th>No. Observations:</th>      <td>  1460</td>      <th>  AIC:               </th> <td>3.523e+04</td>\n",
              "</tr>\n",
              "<tr>\n",
              "  <th>Df Residuals:</th>          <td>  1451</td>      <th>  BIC:               </th> <td>3.528e+04</td>\n",
              "</tr>\n",
              "<tr>\n",
              "  <th>Df Model:</th>              <td>     8</td>      <th>                     </th>     <td> </td>    \n",
              "</tr>\n",
              "<tr>\n",
              "  <th>Covariance Type:</th>      <td>nonrobust</td>    <th>                     </th>     <td> </td>    \n",
              "</tr>\n",
              "</table>\n",
              "<table class=\"simpletable\">\n",
              "<tr>\n",
              "        <td></td>          <th>coef</th>     <th>std err</th>      <th>t</th>      <th>P>|t|</th>  <th>[0.025</th>    <th>0.975]</th>  \n",
              "</tr>\n",
              "<tr>\n",
              "  <th>const</th>        <td>-1.803e+05</td> <td> 1.01e+04</td> <td>  -17.891</td> <td> 0.000</td> <td>   -2e+05</td> <td> -1.6e+05</td>\n",
              "</tr>\n",
              "<tr>\n",
              "  <th>LotArea</th>      <td>    1.2369</td> <td>    0.112</td> <td>   11.001</td> <td> 0.000</td> <td>    1.016</td> <td>    1.457</td>\n",
              "</tr>\n",
              "<tr>\n",
              "  <th>OverallQual</th>  <td> 2.771e+04</td> <td> 1262.497</td> <td>   21.945</td> <td> 0.000</td> <td> 2.52e+04</td> <td> 3.02e+04</td>\n",
              "</tr>\n",
              "<tr>\n",
              "  <th>OverallCond</th>  <td> 2756.8913</td> <td> 1010.801</td> <td>    2.727</td> <td> 0.006</td> <td>  774.104</td> <td> 4739.679</td>\n",
              "</tr>\n",
              "<tr>\n",
              "  <th>ExterQual</th>    <td> 2.972e+04</td> <td> 2865.328</td> <td>   10.374</td> <td> 0.000</td> <td> 2.41e+04</td> <td> 3.53e+04</td>\n",
              "</tr>\n",
              "<tr>\n",
              "  <th>BedroomAbvGr</th> <td> 8364.6585</td> <td> 1379.352</td> <td>    6.064</td> <td> 0.000</td> <td> 5658.922</td> <td> 1.11e+04</td>\n",
              "</tr>\n",
              "<tr>\n",
              "  <th>GarageCars</th>   <td> 2.227e+04</td> <td> 1902.842</td> <td>   11.704</td> <td> 0.000</td> <td> 1.85e+04</td> <td>  2.6e+04</td>\n",
              "</tr>\n",
              "<tr>\n",
              "  <th>PoolArea</th>     <td>   64.5376</td> <td>   27.553</td> <td>    2.342</td> <td> 0.019</td> <td>   10.490</td> <td>  118.585</td>\n",
              "</tr>\n",
              "<tr>\n",
              "  <th>Artery</th>       <td> -1.95e+04</td> <td> 6217.290</td> <td>   -3.137</td> <td> 0.002</td> <td>-3.17e+04</td> <td>-7305.881</td>\n",
              "</tr>\n",
              "</table>\n",
              "<table class=\"simpletable\">\n",
              "<tr>\n",
              "  <th>Omnibus:</th>       <td>673.104</td> <th>  Durbin-Watson:     </th> <td>   1.991</td> \n",
              "</tr>\n",
              "<tr>\n",
              "  <th>Prob(Omnibus):</th> <td> 0.000</td>  <th>  Jarque-Bera (JB):  </th> <td>11761.909</td>\n",
              "</tr>\n",
              "<tr>\n",
              "  <th>Skew:</th>          <td> 1.702</td>  <th>  Prob(JB):          </th> <td>    0.00</td> \n",
              "</tr>\n",
              "<tr>\n",
              "  <th>Kurtosis:</th>      <td>16.482</td>  <th>  Cond. No.          </th> <td>1.35e+05</td> \n",
              "</tr>\n",
              "</table><br/><br/>Notes:<br/>[1] Standard Errors assume that the covariance matrix of the errors is correctly specified.<br/>[2] The condition number is large, 1.35e+05. This might indicate that there are<br/>strong multicollinearity or other numerical problems."
            ]
          },
          "metadata": {},
          "execution_count": 146
        }
      ]
    },
    {
      "cell_type": "markdown",
      "source": [
        "#Podemos analizar con el modelo que las variables modeladas tiene una importante significancia respecto al precio de venta(esto lo podemos ver porque su Pvalor es menor a 0.05)"
      ],
      "metadata": {
        "id": "d7AY9-697fC5"
      }
    },
    {
      "cell_type": "markdown",
      "source": [
        "#Conclusiones generales\n",
        "#Podemos analizar que el precio de venta de una vivienda pueda variar respecto algunos cambios en ciertas variables\n",
        "#Tambien podemos ver que este modelo nos facilita ver que variables nos son utilies para identificar porque varia el precio de una vivienda\n",
        "#Por ultimo nos permite analizar y comparar las desiciones de una cantidad de datos para asi interpretarlos y estudiarlos"
      ],
      "metadata": {
        "id": "Ca0TTp_k8R2X"
      }
    },
    {
      "cell_type": "markdown",
      "source": [
        "#¿cuál es el efecto de una arteria sobre el precio de la vivienda?\n",
        "# Respondiendo a la pregunta se puede estimar que el efecto de vivir cerca de una arteria disminuye el precio de venta y tambien hay menos viviendas, pasa lo contrario cuando se vive lejos de una arteria ya que su precio de venta aumenta y tambien hay mas viviendas"
      ],
      "metadata": {
        "id": "myrjxFAR9di7"
      }
    },
    {
      "cell_type": "code",
      "source": [],
      "metadata": {
        "id": "Oft8drxI9YX7"
      },
      "execution_count": null,
      "outputs": []
    }
  ]
}